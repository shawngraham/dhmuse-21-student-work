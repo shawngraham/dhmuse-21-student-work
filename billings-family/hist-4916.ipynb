{
 "cells": [
  {
   "cell_type": "markdown",
   "metadata": {},
   "source": [
    "## Introduction\n",
    "\n",
    "\n",
    "\n"
   ]
  },
  {
   "cell_type": "markdown",
   "metadata": {},
   "source": [
    "This Jupyter notebook aims to be reflective of the Ottawa Billings Family, and shows significant events that occurred to them as well as in Ottawa in contrast to Canada's historical events. Together, this shows a progress within the city of Ottawa in accordance to the rest of the country, in order to develop an understanding of how local historical events can be connected to the country's signficant milestones, in order to gather a deeper understanding of Canada's capital.\n",
    "\n",
    "Below is a set of data in the form of a timeline retrieved from the City of Ottawa's Archives under the department of Arts, Heritage and Events. The Billings Estate is signficant to Ottawa, as it reflects a middle-upper class family and their settlement in the city as the country was developing into the Canada we are familiar with in the 21st century. From being able to review key figures within the Billings family and recongize the other national historic events that occurred within or rather around the same time, we're able to see how Canada was able to develop in accordance to its' Capital City.\n"
   ]
  },
  {
   "cell_type": "markdown",
   "metadata": {},
   "source": [
    "### Data"
   ]
  },
  {
   "cell_type": "markdown",
   "metadata": {},
   "source": [
    " Below is the introduction to the data set being used for the journal. This dataset is an edited CSV file of important dates for Ottawa's society at the time, whether it is regarding the Billings family or the development of the city such as the construction of Parliament while it is contrasted to important national events for the country. The years range from 1857-1983, with the 'Year' header regarding the events in Canada and the 'Year.1' header regarding the events local to Ottawa. The 'NaN' labels mean that although an important event took place in either the Nation or the Capital, there was an absence of an event happening elsewhere. \n",
    "\n",
    "Additionally, the data imported has quite a messy formatting while additionally summarizing the data, which becomes a little clearer further down! However, we can gather from the data presented below that the Constitution Act was introduced in 1982, however, the following year column reads \"NaN', and when we see which 'Billings' column would align with 1982, we can see that nothing was noted to be significant within Ottawa's constructed for the time."
   ]
  },
  {
   "cell_type": "code",
   "execution_count": null,
   "metadata": {},
   "outputs": [],
   "source": [
    "import pandas\n",
    "import numpy as np\n",
    "import matplotlib.pyplot as plt"
   ]
  },
  {
   "cell_type": "code",
   "execution_count": 141,
   "metadata": {},
   "outputs": [
    {
     "name": "stdout",
     "output_type": "stream",
     "text": [
      "   Emerging City to National Capital (1850-1900)\\n\\nCANADA  Year Year.1  \\\n",
      "0   New Capital. Ottawa became the\\ncapital of the...       1857   1857   \n",
      "1                 Colony of British Columbia Created.       1858   1858   \n",
      "2   Parliament Buildings - Construction began on t...       1859   1859   \n",
      "3                                                 NaN        NaN   1863   \n",
      "4   The Daily News published Ottawa’s first daily ...        NaN   1864   \n",
      "..                                                ...        ...    ...   \n",
      "57                                                NaN        NaN   1975   \n",
      "58  Charles Joseph Clark, Progressive Conservative...       1979   1979   \n",
      "59  Assembly of First Nations. \\nAboriginal Chiefs...       1980   1980   \n",
      "60  The Constitution Act, also called the Canada A...       1982    NaN   \n",
      "61  All provinces except for Quebec signed the Con...       1983   1983   \n",
      "\n",
      "                                             Billings  \n",
      "0                           Ottawa’s population 7,760  \n",
      "1   Samuel promoted to Major in Militia. Charles b...  \n",
      "2                        Charles Murray Billings born  \n",
      "3   The first paid police force established in Ott...  \n",
      "4   Death of Braddish Billings.\\nLamira II inherit...  \n",
      "..                                                ...  \n",
      "57  Death of Charles A. Billings \\n1975 Billings E...  \n",
      "58                 Death of Beatrice Lindsay Billings  \n",
      "59  Terry Fox arrived in Ottawa on July 1st, durin...  \n",
      "60                                                NaN  \n",
      "61  Billings Estate declared a National Historic s...  \n",
      "\n",
      "[62 rows x 4 columns]\n"
     ]
    }
   ],
   "source": [
    "import pandas as pd\n",
    "df = pd.read_csv(\"newtime copy.csv\")\n",
    "print(df)"
   ]
  },
  {
   "cell_type": "markdown",
   "metadata": {},
   "source": [
    "As we can see below, there is an abundance of information that is quite descriptive being piled on top of one another. In an attempt to organize the data, the columns and rows are further seperated to distinguish what event took place in what year. Below it outlines the events that took place with the corresponding year alongside the event. However, we are looking at FAR too much data to deal with, so we can simplify it further before transforming it"
   ]
  },
  {
   "cell_type": "code",
   "execution_count": 155,
   "metadata": {},
   "outputs": [
    {
     "name": "stdout",
     "output_type": "stream",
     "text": [
      "Index(['Emerging City to National Capital (1850-1900)\\n\\nCANADA', 'Year',\n",
      "       'Year.1', 'Billings'],\n",
      "      dtype='object')\n",
      "   Emerging City to National Capital (1850-1900)\\n\\nCANADA  Year\n",
      "0   New Capital. Ottawa became the\\ncapital of the...       1857\n",
      "1                 Colony of British Columbia Created.       1858\n",
      "2   Parliament Buildings - Construction began on t...       1859\n",
      "3                                                 NaN        NaN\n",
      "4   The Daily News published Ottawa’s first daily ...        NaN\n",
      "..                                                ...        ...\n",
      "57                                                NaN        NaN\n",
      "58  Charles Joseph Clark, Progressive Conservative...       1979\n",
      "59  Assembly of First Nations. \\nAboriginal Chiefs...       1980\n",
      "60  The Constitution Act, also called the Canada A...       1982\n",
      "61  All provinces except for Quebec signed the Con...       1983\n",
      "\n",
      "[62 rows x 2 columns]\n",
      "                                             Billings Year.1\n",
      "0                           Ottawa’s population 7,760   1857\n",
      "1   Samuel promoted to Major in Militia. Charles b...   1858\n",
      "2                        Charles Murray Billings born   1859\n",
      "3   The first paid police force established in Ott...   1863\n",
      "4   Death of Braddish Billings.\\nLamira II inherit...   1864\n",
      "..                                                ...    ...\n",
      "57  Death of Charles A. Billings \\n1975 Billings E...   1975\n",
      "58                 Death of Beatrice Lindsay Billings   1979\n",
      "59  Terry Fox arrived in Ottawa on July 1st, durin...   1980\n",
      "60                                                NaN    NaN\n",
      "61  Billings Estate declared a National Historic s...   1983\n",
      "\n",
      "[62 rows x 2 columns]\n",
      "Empty DataFrame\n",
      "Columns: [Emerging City to National Capital (1850-1900)\n",
      "\n",
      "CANADA, Year, Year.1, Billings]\n",
      "Index: []\n",
      "Empty DataFrame\n",
      "Columns: [Emerging City to National Capital (1850-1900)\n",
      "\n",
      "CANADA, Year, Year.1, Billings]\n",
      "Index: []\n",
      "0 Ottawa’s population 7,760\n",
      "1 Samuel promoted to Major in Militia. Charles built his home, married Maria Murray.\n",
      "2 Charles Murray Billings born\n",
      "3 The first paid police force established in Ottawa. Lamira Jane ‘Minnie’ Billings born to Charles I and Maria\n",
      "4 Death of Braddish Billings.\n",
      "Lamira II inherits Kilborn estate.\n",
      "Sally takes on the full-time care\n",
      "of Lamira Billings until her death\n",
      "5 Post Office opened in Billings Bridge\n",
      "6 Lamira I begins teaching again\n",
      "7 Great fire of Carleton County, August. Charles shifted to Market Gardening Braddish III became a Civil Servant\n",
      "8 Small Pox Epidemic.\n",
      "Death of Braddish II \n",
      "Houses of Parliament completed\n",
      "9 Onset of a severe economic depression\n",
      "10 Second outbreak of Small Pox\n",
      "First civic park – Majors Hill.\n",
      "Daily mail to Billings Bridge.\n",
      "Amelia Celeste Billings born to Samuel and Amelia Elkanah\n",
      "Elkanah made a fellow of the Royal Geological Society\n",
      "Death of Elkanah Billings.\n",
      "Braddish III married Charlotte Elizabeth Humphreys\n",
      "11 Economic depression in Ottawa\n",
      "12 The Ottawa Electric Light Co. began providing electricity to the city\n",
      "13 Ottawa annexed part of\n",
      "Gloucester township and Nepean\n",
      "township to form Rideau Ward. \n",
      "The city now had eight Wards:\n",
      "By, Central, Dalhousie, Ottawa,\n",
      "Rideau, St. George’s, Victoria\n",
      "and Wellington.\n",
      "14 Amelia M. Billings born to Hugh Braddish and Eliza.\n",
      "15 Thomas Ahearn, co-owner of the Ottawa Electric Street Railway Co., developed the world’s first electric stove. Windsor Hotel, Ottawa, serves first meal cooked entirely by electricity.\n",
      "Maria Harriet Billings born to Hugh Braddish and Eliza\n",
      "16 St. Luke’s General Hospital opened with 262 beds.\n",
      "Minnie Billings married George W. Greene and moved to Red Deer, Alberta\n",
      "17 John Roger Billings born to Hugh\n",
      "Braddish and Eliza\n",
      "18 nan\n",
      "19 nan\n",
      "20 nan\n",
      "21 nan\n",
      "22 nan\n",
      "23 nan\n",
      "24 nan\n",
      "25 nan\n",
      "26 nan\n",
      "27 nan\n",
      "28 Billings\n",
      "29 Hugh Braddish became a justice of the peace\n",
      "30 The Carnegie Library officially opened on Metcalfe Street and Laurier Avenue, the later site of the Ottawa Public Library Main Branch\n",
      "31 The Chateau Laurier and Union Station opened. \n",
      "Hopewell Hospital established. \n",
      "The purpose of this hospital, erected on Porter Island, was to isolate small pox victims from the general population \n",
      "Death of Sabra Billings\n",
      "32 Fire engulfed the Parliament Buildings.\n",
      "It took the lives of seven people and destroyed the entire Centre Block, but the Parliament Library was saved because librarian M.C.\n",
      "MacCormac closed the iron fire doors to the main buildings.\n",
      "33 Influenza Epidemic – Last epidemic experienced by Ottawa. Hospitals were unable to cope, and became a catalyst for the construction of the Ottawa Civic Hospital \n",
      "Hugh Braddish II is killed in action during WWI\n",
      "34 Charles M. Billings married Gertrude Guertin\n",
      "35 The Rockcliffe Air Station opened in Ottawa, the Capital’s first airport. \n",
      "Ottawa became the first city in the world to hear long-distance radio voice communications when a concert in Montreal was broadcast live to an audience at\n",
      "the Chateau Laurier Hotel.\n",
      "Death of Walter Billings\n",
      "Amelia M. began working for the Gloucester Township.\n",
      "John Rodger married Isabel Eastcott. and starts Billings Brothers Farm\n",
      "36 Ottawa’s population reached six figures at 107,843\n",
      "37 Hugh Braddish lost Gloucester township elections\n",
      "38 Death of Frances Billings\n",
      "39 Fire destroyed Ottawa City Hall, results in the loss of many important records.\n",
      "40 Sandra was born to Charles A. and Beatrice Death of Charles M. Billings\n",
      "41 King George VI and Queen Elizabeth I unveiled the National War Memorial in Confederation Square on May 21st Hugh Braddish born to Charles A. and Beatrice\n",
      "42 Ottawa covered an area of 6100 acres and had a population of about 166,000 in this year\n",
      "43 nan\n",
      "44 nan\n",
      "45 nan\n",
      "46 nan\n",
      "47 nan\n",
      "48 nan\n",
      "49 Billings/Ottawa\n",
      "50 Fire at Billings estate\n",
      "51 Ottawa annexed large parts of Gloucester and Nepean, to make a new total of 14 Wards - grows from 6000 to 30,000\n",
      "acres\n",
      "52 Ottawa began expanding west after it made Carling Avenue a major road. \n",
      "Queen Elizabeth II dedicated the Queensway highway, also known as route 417\n",
      "53 nan\n",
      "54 nan\n",
      "55 nan\n",
      "56 nan\n",
      "57 Death of Charles A. Billings \n",
      "1975 Billings Estate purchased by the City of Ottawa in an arrangement with the Government of Canada\n",
      "58 Death of Beatrice Lindsay Billings\n",
      "59 Terry Fox arrived in Ottawa on July 1st, during his “Tour of Hope” Board of Control is abolished, five new wards created: Billings, Riverside, Richmond, Caterbury and OverbrookForbes\n",
      "60 nan\n",
      "61 Billings Estate declared a National Historic site. Death of Maria Harriett Billings\n",
      "0 1857\n",
      "1 1858\n",
      "2 1859\n",
      "3 nan\n",
      "4 nan\n",
      "5 1866\n",
      "6 1867\n",
      "7 1870\n",
      "8 1871\n",
      "9 1873\n",
      "10 1876\n",
      "11 1884\n",
      "12 1885\n",
      "13 1889\n",
      "14 1889\n",
      "15 1892\n",
      "16 1898\n",
      "17 1899\n",
      "18 nan\n",
      "19 nan\n",
      "20 nan\n",
      "21 nan\n",
      "22 nan\n",
      "23 nan\n",
      "24 nan\n",
      "25 nan\n",
      "26 nan\n",
      "27 nan\n",
      "28 Year\n",
      "29 1905\n",
      "30 1906\n",
      "31 1912\n",
      "32 1916\n",
      "33 1917\n",
      "34 1918\n",
      "35 1920\n",
      "36 1921\n",
      "37 1927\n",
      "38 1928\n",
      "39 1931\n",
      "40 1936\n",
      "41 1939\n",
      "42 1945\n",
      "43 nan\n",
      "44 nan\n",
      "45 nan\n",
      "46 nan\n",
      "47 nan\n",
      "48 nan\n",
      "49 Year\n",
      "50 1949\n",
      "51 1950\n",
      "52 1957\n",
      "53 1965\n",
      "54 1968\n",
      "55 1970\n",
      "56 1971\n",
      "57 nan\n",
      "58 1979\n",
      "59 1980\n",
      "60 1982\n",
      "61 1983\n"
     ]
    }
   ],
   "source": [
    "## Reading Headers\n",
    "print(df.columns)\n",
    "\n",
    "## Reading Correlating Columns\n",
    "print (df[['Emerging City to National Capital (1850-1900)\\n\\nCANADA', 'Year']]) \n",
    "print (df[['Billings', 'Year.1']])\n",
    "\n",
    "## Reading Each Row\n",
    "print(df.iloc[10:3])\n",
    "print (df.iloc[10:3])\n",
    "for index, row in df.iterrows():\n",
    "    print(index,row['Billings'])\n",
    "for index, column in df.iterrows():\n",
    "    print (index, column['Year'])\n",
    "    "
   ]
  },
  {
   "cell_type": "code",
   "execution_count": 163,
   "metadata": {},
   "outputs": [
    {
     "name": "stdout",
     "output_type": "stream",
     "text": [
      "  Emerging City to National Capital (1850-1900)\\n\\nCANADA Year Year.1  \\\n",
      "4  The Daily News published Ottawa’s first daily ...       NaN   1864   \n",
      "\n",
      "                                            Billings  \n",
      "4  Death of Braddish Billings.\\nLamira II inherit...  \n"
     ]
    }
   ],
   "source": [
    "df.loc[df['Billings'] =='Year.1'] \n",
    "df.loc[df['Emerging City to National Capital (1850-1900)\\n\\nCANADA']== 'Year']\n",
    "print (df.iloc[4:63])"
   ]
  },
  {
   "cell_type": "markdown",
   "metadata": {},
   "source": [
    "### Organization of Dataset "
   ]
  },
  {
   "cell_type": "markdown",
   "metadata": {},
   "source": [
    "Below, we have been able to provide a code that further organizes and displays our data in a fashion that is far less cluttered and is just a fragment of the information within the dataset - making it perfect to display on a graph. We can see how the dates are intended to correspond to the events, and where information may be absent yet reflects an important event either nationally or locally. For this notebook, we will be aiming to graph two events that display correlation or isolation from the other points on the graph, thus correlation or isolation from contributions to the developing Ottawa and/or Canada."
   ]
  },
  {
   "cell_type": "code",
   "execution_count": 166,
   "metadata": {},
   "outputs": [
    {
     "data": {
      "text/html": [
       "<div>\n",
       "<style scoped>\n",
       "    .dataframe tbody tr th:only-of-type {\n",
       "        vertical-align: middle;\n",
       "    }\n",
       "\n",
       "    .dataframe tbody tr th {\n",
       "        vertical-align: top;\n",
       "    }\n",
       "\n",
       "    .dataframe thead th {\n",
       "        text-align: right;\n",
       "    }\n",
       "</style>\n",
       "<table border=\"1\" class=\"dataframe\">\n",
       "  <thead>\n",
       "    <tr style=\"text-align: right;\">\n",
       "      <th></th>\n",
       "      <th>Emerging City to National Capital (1850-1900)\\n\\nCANADA</th>\n",
       "      <th>Year</th>\n",
       "      <th>Year.1</th>\n",
       "      <th>Billings</th>\n",
       "    </tr>\n",
       "  </thead>\n",
       "  <tbody>\n",
       "    <tr>\n",
       "      <th>2</th>\n",
       "      <td>Parliament Buildings - Construction began on t...</td>\n",
       "      <td>1859</td>\n",
       "      <td>1859</td>\n",
       "      <td>Charles Murray Billings born</td>\n",
       "    </tr>\n",
       "    <tr>\n",
       "      <th>4</th>\n",
       "      <td>The Daily News published Ottawa’s first daily ...</td>\n",
       "      <td>NaN</td>\n",
       "      <td>1864</td>\n",
       "      <td>Death of Braddish Billings.\\nLamira II inherit...</td>\n",
       "    </tr>\n",
       "    <tr>\n",
       "      <th>0</th>\n",
       "      <td>New Capital. Ottawa became the\\ncapital of the...</td>\n",
       "      <td>1857</td>\n",
       "      <td>1857</td>\n",
       "      <td>Ottawa’s population 7,760</td>\n",
       "    </tr>\n",
       "    <tr>\n",
       "      <th>1</th>\n",
       "      <td>Colony of British Columbia Created.</td>\n",
       "      <td>1858</td>\n",
       "      <td>1858</td>\n",
       "      <td>Samuel promoted to Major in Militia. Charles b...</td>\n",
       "    </tr>\n",
       "    <tr>\n",
       "      <th>3</th>\n",
       "      <td>NaN</td>\n",
       "      <td>NaN</td>\n",
       "      <td>1863</td>\n",
       "      <td>The first paid police force established in Ott...</td>\n",
       "    </tr>\n",
       "  </tbody>\n",
       "</table>\n",
       "</div>"
      ],
      "text/plain": [
       "  Emerging City to National Capital (1850-1900)\\n\\nCANADA  Year Year.1  \\\n",
       "2  Parliament Buildings - Construction began on t...       1859   1859   \n",
       "4  The Daily News published Ottawa’s first daily ...        NaN   1864   \n",
       "0  New Capital. Ottawa became the\\ncapital of the...       1857   1857   \n",
       "1                Colony of British Columbia Created.       1858   1858   \n",
       "3                                                NaN        NaN   1863   \n",
       "\n",
       "                                            Billings  \n",
       "2                       Charles Murray Billings born  \n",
       "4  Death of Braddish Billings.\\nLamira II inherit...  \n",
       "0                          Ottawa’s population 7,760  \n",
       "1  Samuel promoted to Major in Militia. Charles b...  \n",
       "3  The first paid police force established in Ott...  "
      ]
     },
     "execution_count": 166,
     "metadata": {},
     "output_type": "execute_result"
    }
   ],
   "source": [
    "df.sort_values(['Billings', 'Year.1'], ascending=True)"
   ]
  },
  {
   "cell_type": "code",
   "execution_count": 143,
   "metadata": {},
   "outputs": [
    {
     "data": {
      "text/html": [
       "<div>\n",
       "<style scoped>\n",
       "    .dataframe tbody tr th:only-of-type {\n",
       "        vertical-align: middle;\n",
       "    }\n",
       "\n",
       "    .dataframe tbody tr th {\n",
       "        vertical-align: top;\n",
       "    }\n",
       "\n",
       "    .dataframe thead th {\n",
       "        text-align: right;\n",
       "    }\n",
       "</style>\n",
       "<table border=\"1\" class=\"dataframe\">\n",
       "  <thead>\n",
       "    <tr style=\"text-align: right;\">\n",
       "      <th></th>\n",
       "      <th>Emerging City to National Capital (1850-1900)\\n\\nCANADA</th>\n",
       "      <th>Year</th>\n",
       "      <th>Year.1</th>\n",
       "      <th>Billings</th>\n",
       "    </tr>\n",
       "  </thead>\n",
       "  <tbody>\n",
       "    <tr>\n",
       "      <th>49</th>\n",
       "      <td>\\nCanada</td>\n",
       "      <td>Year</td>\n",
       "      <td>Year</td>\n",
       "      <td>Billings/Ottawa</td>\n",
       "    </tr>\n",
       "    <tr>\n",
       "      <th>28</th>\n",
       "      <td>\\nCanada 1900-1945</td>\n",
       "      <td>Year</td>\n",
       "      <td>Year</td>\n",
       "      <td>Billings</td>\n",
       "    </tr>\n",
       "    <tr>\n",
       "      <th>6</th>\n",
       "      <td>\\nConfederation. The Dominion of Canada offici...</td>\n",
       "      <td>1867</td>\n",
       "      <td>1867</td>\n",
       "      <td>Lamira I begins teaching again</td>\n",
       "    </tr>\n",
       "    <tr>\n",
       "      <th>36</th>\n",
       "      <td>Agnes MacPhail – first woman elected to Parlia...</td>\n",
       "      <td>1921</td>\n",
       "      <td>1921</td>\n",
       "      <td>Ottawa’s population reached six figures at 107...</td>\n",
       "    </tr>\n",
       "    <tr>\n",
       "      <th>29</th>\n",
       "      <td>Alberta and Saskatchewan join Canada.</td>\n",
       "      <td>1905</td>\n",
       "      <td>1905</td>\n",
       "      <td>Hugh Braddish became a justice of the peace</td>\n",
       "    </tr>\n",
       "    <tr>\n",
       "      <th>...</th>\n",
       "      <td>...</td>\n",
       "      <td>...</td>\n",
       "      <td>...</td>\n",
       "      <td>...</td>\n",
       "    </tr>\n",
       "    <tr>\n",
       "      <th>44</th>\n",
       "      <td>NaN</td>\n",
       "      <td>NaN</td>\n",
       "      <td>NaN</td>\n",
       "      <td>NaN</td>\n",
       "    </tr>\n",
       "    <tr>\n",
       "      <th>45</th>\n",
       "      <td>NaN</td>\n",
       "      <td>NaN</td>\n",
       "      <td>NaN</td>\n",
       "      <td>NaN</td>\n",
       "    </tr>\n",
       "    <tr>\n",
       "      <th>46</th>\n",
       "      <td>NaN</td>\n",
       "      <td>NaN</td>\n",
       "      <td>NaN</td>\n",
       "      <td>NaN</td>\n",
       "    </tr>\n",
       "    <tr>\n",
       "      <th>47</th>\n",
       "      <td>NaN</td>\n",
       "      <td>NaN</td>\n",
       "      <td>NaN</td>\n",
       "      <td>NaN</td>\n",
       "    </tr>\n",
       "    <tr>\n",
       "      <th>57</th>\n",
       "      <td>NaN</td>\n",
       "      <td>NaN</td>\n",
       "      <td>1975</td>\n",
       "      <td>Death of Charles A. Billings \\n1975 Billings E...</td>\n",
       "    </tr>\n",
       "  </tbody>\n",
       "</table>\n",
       "<p>62 rows × 4 columns</p>\n",
       "</div>"
      ],
      "text/plain": [
       "   Emerging City to National Capital (1850-1900)\\n\\nCANADA  Year Year.1  \\\n",
       "49                                           \\nCanada       Year   Year   \n",
       "28                                 \\nCanada 1900-1945       Year   Year   \n",
       "6   \\nConfederation. The Dominion of Canada offici...       1867   1867   \n",
       "36  Agnes MacPhail – first woman elected to Parlia...       1921   1921   \n",
       "29              Alberta and Saskatchewan join Canada.       1905   1905   \n",
       "..                                                ...        ...    ...   \n",
       "44                                                NaN        NaN    NaN   \n",
       "45                                                NaN        NaN    NaN   \n",
       "46                                                NaN        NaN    NaN   \n",
       "47                                                NaN        NaN    NaN   \n",
       "57                                                NaN        NaN   1975   \n",
       "\n",
       "                                             Billings  \n",
       "49                                    Billings/Ottawa  \n",
       "28                                           Billings  \n",
       "6                      Lamira I begins teaching again  \n",
       "36  Ottawa’s population reached six figures at 107...  \n",
       "29        Hugh Braddish became a justice of the peace  \n",
       "..                                                ...  \n",
       "44                                                NaN  \n",
       "45                                                NaN  \n",
       "46                                                NaN  \n",
       "47                                                NaN  \n",
       "57  Death of Charles A. Billings \\n1975 Billings E...  \n",
       "\n",
       "[62 rows x 4 columns]"
      ]
     },
     "execution_count": 143,
     "metadata": {},
     "output_type": "execute_result"
    }
   ],
   "source": [
    "df.sort_values(['Emerging City to National Capital (1850-1900)\\n\\nCANADA', 'Year'], ascending=True)"
   ]
  },
  {
   "cell_type": "markdown",
   "metadata": {},
   "source": [
    "### Plotting Relevancy to Ottawa\n",
    "Below, we have been able to provide a code that further organizes and displays our data in a fashion that is far less cluttered and is just a fragment of the information within the dataset - making it perfect to display on a scatterplot graph. The scatterplot provides a simplistic visual to see where events are isolated or correlate with one another, as the grid will either intersect or be seperate from the observed plot. We can see how the dates are intended to correspond to the events, and where information may be absent yet reflects an important event either nationally or locally. For this notebook, we will be aiming to graph two events that display correlation or isolation from the other points on the graph, thus correlation or isolation from contributions to the developing Ottawa and/or Canada."
   ]
  },
  {
   "cell_type": "code",
   "execution_count": 317,
   "metadata": {},
   "outputs": [
    {
     "data": {
      "image/png": "[encoded data removed]",
      "text/plain": [
       "<Figure size 432x288 with 1 Axes>"
      ]
     },
     "metadata": {
      "needs_background": "light"
     },
     "output_type": "display_data"
    }
   ],
   "source": [
    "x = [1857, 1858, 1859, 1863]\n",
    "y = [1857, 1858, 1859,1863]\n",
    "plt.scatter (x,y)\n",
    "plt.grid()\n",
    "\n",
    "plt.title('Contrasting Canadian Heritage: 1800s', fontdict={'fontsize':20})\n",
    "plt.xlabel('Year: Ottawa')\n",
    "plt.ylabel('Year: Canada')\n",
    "\n",
    "plt.xticks ([1857, 1858, 1859,1860, 1861, 1862, 1863])\n",
    "plt.yticks ([1857, 1858, 1859, 1860, 1861, 1862])\n",
    "\n",
    "plt.show()\n",
    "    "
   ]
  },
  {
   "cell_type": "markdown",
   "metadata": {},
   "source": [
    "From the scatter plot with the grid, we are able to see where events collide in the capital with events that have simultaneously occurred with events that have happened in the country. The furthest dot above indicates Ottawa's first funded police force, which we can see as an isolated variable, being as it is the furthest in time from the other events. Additionally, the dot is isolated as it does not correspond with the Canadian timeline of years located in the y-axis. From this smaller local event, we can infer the event of Ottawa's police force being established has no direct correlation to the development of Canada as a country during the year of 1863. Therefore, we can state that this particular incident is a weakness within the data, which we can further research or conclude it is not relevant to developments towards Canada and Ottawa simultaneously."
   ]
  },
  {
   "cell_type": "markdown",
   "metadata": {},
   "source": [
    "### Plotting the Relevancy of Canada with Ottawa\n",
    "For the scatter plot below, we have included a second graph to show the opposite. In this graph, we can see how the event of Ottawa's population hitting an all-time high of over 100,000 residents can correlate with the event of the first female in Parliament serving for the Canadian government. This plot is located in which we can see the intersection of the x and y axis, whereas the other plots on the graph are only along the x axis. This is illustrated to show that through our datasets, there is no other data pertaining to both the development of Canada and of Ottawa, other than through the year of 1921. "
   ]
  },
  {
   "cell_type": "code",
   "execution_count": 346,
   "metadata": {},
   "outputs": [
    {
     "data": {
      "image/png": "[encoded data removed]",
      "text/plain": [
       "<Figure size 432x288 with 1 Axes>"
      ]
     },
     "metadata": {
      "needs_background": "light"
     },
     "output_type": "display_data"
    }
   ],
   "source": [
    "x = [1918, 1919, 1920, 1921, 1922, 1923]\n",
    "y = [1918, 1919, 1920, 1921, 1922, 1923]\n",
    "plt.scatter (x,y)\n",
    "plt.grid()\n",
    "\n",
    "plt.title('Contrasting Canadian Events: 1920s', fontdict={'fontsize':20})\n",
    "plt.xlabel('Year: Ottawa')\n",
    "plt.ylabel('Year: Canada')\n",
    "\n",
    "plt.xticks ([1919, 1921, 1923])\n",
    "plt.yticks ([1918, 1920, 1921, 1922])\n",
    "\n",
    "plt.show()"
   ]
  },
  {
   "cell_type": "markdown",
   "metadata": {},
   "source": [
    "With 1921 being the only year that is intersecting with each graph, we are able to see that these events occurred simultaneously within Canada and Ottawa. This can prove to show potential strength within the dataset, as we are able to further investigate whether the development of cities such as Ottawa during the time can contribute to the societal shift of a woman in Parliament (which if we were to critically analyse the Sufferage Movement, we might be onto something!). Further, this graph showing the correlation of the events can prompt further research into the simultaneous nature of these seperate events."
   ]
  },
  {
   "cell_type": "markdown",
   "metadata": {},
   "source": [
    "### Conclusion\n",
    "   From the tables and graphs above, we are able to conclude that events that pertain to Ottawa and Canada can show significant shifts within government, society and ways of life that we are familiarized with today. With events such as the development of the police force we can infer that when the isolated events occur that do not affect Canada as a whole, it merely contributes to the development of the city. However, events that are isolated and synonymous are still significant to provide further insights to either the development of Canada or Ottawa seperately, which can further aid GLAM studies in conducting local and national research. In further studies, we can expand on the events that have occurred within Ottawa, being able to provide more detail about the growth of the city, as the dataset reflects mostly upon the Billings Estates. Additionally, we can look at more recent history throughout the 20th century to determine how many more correlated events have contributed to the growth of Ottawa and Canada synonymously. "
   ]
  },
  {
   "cell_type": "markdown",
   "metadata": {},
   "source": [
    "### References to Sources Utilized\n",
    "\n",
    "Videos That Helped Construct Coding:\n",
    "https://www.youtube.com/watch?v=vmEHCJofslg&ab_channel=KeithGalli\n",
    "https://www.youtube.com/watch?v=dxueNcTYjqI&ab_channel=CodeWithData\n",
    "\n",
    "Links that provided much insight:\n",
    "https://www.datacamp.com/community/tutorials/pandas-read-csv?utm_source=adwords_ppc&utm_campaignid=898687156&utm_adgroupid=48947256715&utm_device=c&utm_keyword=&utm_matchtype=b&utm_network=g&utm_adpostion=&utm_creative=332602034343&utm_targetid=aud-392016246653:dsa-429603003980&utm_loc_interest_ms=&utm_loc_physical_ms=9000671&gclid=Cj0KCQjwyN-DBhCDARIsAFOELTmZjqIHGBvKaAcw90FPIqC5dU4GlmsgC8S_6FlBgT0Idv-ybQ4neooaAvZWEALw_wcB\n",
    "\n",
    "https://jupyterlab.readthedocs.io/en/stable/user/files.html\n",
    "\n",
    "https://notebook.community/mholtrop/Phys605/Python/Plotting/Plot_from_CSV_data\n",
    "\n",
    "Link to PDF that shows dataset for the Billings Estate:\n",
    "https://ottawa.ca/en/arts-heritage-and-events/city-ottawa-archives/exhibitions-and-displays/billings-family-virtual-exhibit?fbclid=IwAR12GKYeetFLySyiyDmAPBpc0QjX26QHNqoDokYelBqr3IIQHtUW-45igWc\n",
    "\n",
    "March, 29, 2021 - Dr. Graham posted about constructing graphs in the 'Building Our Notebooks' Channel on Discord - very helpful!\n",
    "\n",
    "Additional thanks to peers and friends who were able to help change a comma along the way!"
   ]
  },
  {
   "cell_type": "markdown",
   "metadata": {},
   "source": [
    "### Further Readings\n",
    "To further learn about the development of Canada and Ottawa, and the impact on those who have within the city or country, these text provide insight within the datasets and additionally open opportunities to learn more about Canadian/Ottawa historical development:\n",
    "\n",
    "The Woman Suffrage Movement in Canada: Second Edition by Catherine L. Cleverdon - available on Google Books:https://books.google.ca/books?hl=en&lr=&id=qQDmDQAAQBAJ&oi=fnd&pg=PT44&dq=ottawa+suffrage+women&ots=l-8etKG9LF&sig=esiNT4E7q09VfICs4-EpPCf0Lf0&redir_esc=y#v=onepage&q=ottawa%20suffrage%20women&f=false\n",
    "\n",
    "BAnQ's Glam Project from 2014 - one of the first in Canada that shows development of street and social life based in Quebec: https://blogues.banq.qc.ca/instantanes/2014/12/17/banq-et-wikimedia-une-premiere-collaboration-glam-au-canada/\n",
    "\n",
    "Ottawa's Heritage webpage explaining the historical significance of the Billings Family to Ottawa\n",
    "https://heritageottawa.org/50years/billings-estate-house\n",
    "\n",
    "Canada's reconciliation for framework regarding Canada's Archives\n",
    "https://librarianship.ca/news/reconciliation-framework-archives/"
   ]
  },
  {
   "cell_type": "code",
   "execution_count": null,
   "metadata": {},
   "outputs": [],
   "source": []
  }
 ],
 "metadata": {
  "kernelspec": {
   "display_name": "Python 3",
   "language": "python",
   "name": "python3"
  },
  "language_info": {
   "codemirror_mode": {
    "name": "ipython",
    "version": 3
   },
   "file_extension": ".py",
   "mimetype": "text/x-python",
   "name": "python",
   "nbconvert_exporter": "python",
   "pygments_lexer": "ipython3",
   "version": "3.7.4"
  }
 },
 "nbformat": 4,
 "nbformat_minor": 4
}
