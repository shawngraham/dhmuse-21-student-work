{
 "cells": [
  {
   "cell_type": "markdown",
   "metadata": {},
   "source": [
    "# **Digital Remembrance**\n",
    "![Ottawa's National War Memorial](https://duyxryp8txy49.cloudfront.net/images/2019-redesign-remembrance/remembrance/memorials/1000x400/1000x400-memorial-national.jpg)\n",
    "[Ottawa's National War Memorial](https://www.veterans.gc.ca/eng/remembrance/memorials/national-war-memorial)\n",
    "\n",
    "## Introduction\n",
    "\n",
    "This notebook is intended to act as a virtual memorial for soldiers that have laid down their lives in service and defence of Canada since confederation in 1876. The goal of this notebook was to display information about fallen servicemen throughout Canadian history in the spirit of remembrance. The information about these men and women includes names and the year that they died. It was also intended that information be shown that displays the number of soldiers who died in a year. The First World War and the Second World War are highlighted through their own sections, as these where the two largest conflicts that Canada has participated in, as well as two wars in which thousands of Canadians died in the fighting. The years of these wars, 1914-1918 and 1939-1945 make up the majority of years where Canadian troops lost their lives. Commemoration is an important aspect of history and a nations identity. It builds national pride, creates awareness of human sacrifices, and celebrates the men and women who made the ultimate sacrifice."
   ]
  },
  {
   "cell_type": "markdown",
   "metadata": {},
   "source": [
    "## Data\n",
    "\n",
    "The data used from this notebook was collected from the government of Canada website and is named [\"Canadian Virtual War Memorial.\"](https://open.canada.ca/data/en/dataset/089fc8e5-1340-4e8a-a7e4-f6eb320a5b6e)[^1] It contains a information of Canadian soldiers who have died in the line of duty from the years 1896 to 2020. It provides the full names for each of the soldiers, their date of death including the month and year, and assigns a casualty number for each name. Some of the limitation of this data is that the date of death included month, day, year, and the units 00:00:00 all in the same column. The dates were also scrambled and mixed up with no order. Because of this the original json file had to be converted to a csv file in order to reorganize the data by date and make calculation in order to determine the number of deaths per year [^2]. Furthermore, to ease coding the data was separated into different csv files that contained specific date ranges for the First world War, Second World Warm, and another with total casualties by year. Learning code defiantly takes time and patience. There are many sources on the internet that can help users navigate the nuances of coding and the type of cod used. For me, the article “Visualizing Data with Bokeh and Pandas”[^3] by Charly Harper was particularly helpful in creating code to import Pandas and creating graphs. Another helpful source was an example notebook that explained the basics of python by Nathan Kelber and Ted Lawless called “getting-started-with-jupyter”[^4]. "
   ]
  },
  {
   "cell_type": "markdown",
   "metadata": {},
   "source": [
    "### Importing Pandas\n",
    "\n",
    "This step is uploading the json file into Jupyter, then organizing the data into a table."
   ]
  },
  {
   "cell_type": "code",
   "execution_count": null,
   "metadata": {},
   "outputs": [],
   "source": [
    "import pandas as pd\n",
    "\n",
    "df = pd.read_json('cwg.json')\n",
    "\n",
    "print (df)"
   ]
  },
  {
   "cell_type": "code",
   "execution_count": null,
   "metadata": {},
   "outputs": [],
   "source": [
    "import json\n",
    "\n",
    "with open('cwg.json','r') as f:\n",
    "        data = json.loads(f.read())\n",
    "        \n",
    "# flatten the data\n",
    "\n",
    "df_nested_list = pd.json_normalize(data, record_path =['data'])"
   ]
  },
  {
   "cell_type": "code",
   "execution_count": null,
   "metadata": {
    "scrolled": true
   },
   "outputs": [],
   "source": [
    "df_nested_list"
   ]
  },
  {
   "cell_type": "markdown",
   "metadata": {},
   "source": [
    "In order to modify and reorganize the data, the json file had to be converted to a csv file. Once the data was reconfigured so that the dates were in order and the year was separated from the month and day, it was re-uploaded as a csv file as seen below."
   ]
  },
  {
   "cell_type": "code",
   "execution_count": null,
   "metadata": {},
   "outputs": [],
   "source": [
    "df_nested_list.to_csv(\"mydata.csv\")"
   ]
  },
  {
   "cell_type": "code",
   "execution_count": null,
   "metadata": {},
   "outputs": [],
   "source": [
    "import pandas as pd\n",
    "\n",
    "df = pd.read_csv('CasualtyDATA.csv')\n",
    "print(df)"
   ]
  },
  {
   "cell_type": "markdown",
   "metadata": {},
   "source": [
    "Here the eight columns are made easily visible by being converted to a list with the code: df.columns.tolist()"
   ]
  },
  {
   "cell_type": "code",
   "execution_count": null,
   "metadata": {},
   "outputs": [],
   "source": [
    "df.columns.tolist()"
   ]
  },
  {
   "cell_type": "markdown",
   "metadata": {},
   "source": [
    "### Canada's Fallen from the years 1876-2020\n",
    "\n",
    "This graph shows every fallen soldier through Canada's history. Each soldier is represented by a single dot and hovering on the dote will display their first and last names as well as the year that they died. Notice how on the graph there are three distinct clusters. Possible explanations for each of these clusters is easy to identify when they are associated with the dates. The Second Boer War in in South Africa took place from 1899-1902, the First World War took place from 1914-1918, and the Second World War took place from 1939-1945. There are clearly an increased number of dots associated with these dates which are explained by the Wars that took place and Canadian contributions to these efforts. There is a large number of dots that are spread out from 1945-2020. This may be explained by Canada's increased presence on the world stage and it's troops participating in operation around the world."
   ]
  },
  {
   "cell_type": "code",
   "execution_count": null,
   "metadata": {},
   "outputs": [],
   "source": [
    "import pandas as pd\n",
    "from bokeh.plotting import figure, output_notebook, show\n",
    "from bokeh.models import ColumnDataSource\n",
    "from bokeh.models.tools import HoverTool\n",
    "output_notebook()\n",
    "\n",
    "df = pd.read_csv('CasualtyDATA.csv')\n",
    "\n",
    "sample = df.sample(118832)\n",
    "source = ColumnDataSource(sample)\n",
    "\n",
    "p = figure()\n",
    "p.circle(x='Date', y='Unnamed: 0', \n",
    "         source=source,\n",
    "         size=5, color='green')\n",
    "\n",
    "p.title.text = 'Fallen Canadian Soldiers'\n",
    "p.xaxis.axis_label = 'Year of Death'\n",
    "p.yaxis.axis_label = 'Casualty Number'\n",
    "\n",
    "hover = HoverTool()\n",
    "hover.tooltips=[\n",
    "    ('First Name', '@FORENAMES'),\n",
    "    ('Last Name', '@SURNAME'),\n",
    "    ('Date of Death', '@Date')\n",
    "     ]\n",
    "p.add_tools(hover)\n",
    "\n",
    "show(p)"
   ]
  },
  {
   "cell_type": "markdown",
   "metadata": {},
   "source": [
    "The graph below displays the information of 100 randomly selected soldiers from the above graph."
   ]
  },
  {
   "cell_type": "code",
   "execution_count": null,
   "metadata": {
    "scrolled": false
   },
   "outputs": [],
   "source": [
    "import pandas as pd\n",
    "from bokeh.plotting import figure, output_notebook, show\n",
    "from bokeh.models import ColumnDataSource\n",
    "from bokeh.models.tools import HoverTool\n",
    "output_notebook()\n",
    "\n",
    "df = pd.read_csv('CasualtyDATA.csv')\n",
    "\n",
    "sample = df.sample(100)\n",
    "source = ColumnDataSource(sample)\n",
    "\n",
    "p = figure()\n",
    "p.circle(x='Date', y='Unnamed: 0', \n",
    "         source=source,\n",
    "         size=10, color='green')\n",
    "\n",
    "p.title.text = 'Fallen Canadian Soldiers'\n",
    "p.xaxis.axis_label = 'Year of Death'\n",
    "p.yaxis.axis_label = 'Casualty Number'\n",
    "\n",
    "hover = HoverTool()\n",
    "hover.tooltips=[\n",
    "    ('First Name', '@FORENAMES'),\n",
    "    ('Last Name', '@SURNAME'),\n",
    "    ('Date of Death', '@Date')\n",
    "     ]\n",
    "p.add_tools(hover)\n",
    "\n",
    "show(p)"
   ]
  },
  {
   "cell_type": "markdown",
   "metadata": {},
   "source": [
    "This data set is another modified table with information obtained from the original \"Canadian Virtual War Memorial\" source. The data was modified in an excel file to match the number of fallen in a given year."
   ]
  },
  {
   "cell_type": "code",
   "execution_count": null,
   "metadata": {
    "scrolled": false
   },
   "outputs": [],
   "source": [
    "import pandas as pd\n",
    "\n",
    "df = pd.read_csv('TestWW1data.csv')\n",
    "print(df)"
   ]
  },
  {
   "cell_type": "markdown",
   "metadata": {},
   "source": [
    "This graph shows each point as a year in which one or more Canadian soldiers died while serving their nation. The points correlate how many soldiers died each year. The points that represent the costliest years of the two World Wars easily stand out. "
   ]
  },
  {
   "cell_type": "code",
   "execution_count": null,
   "metadata": {
    "scrolled": true
   },
   "outputs": [],
   "source": [
    "import pandas as pd\n",
    "from bokeh.plotting import figure, output_notebook, show\n",
    "from bokeh.models import ColumnDataSource\n",
    "from bokeh.models.tools import HoverTool\n",
    "output_notebook()\n",
    "\n",
    "df = pd.read_csv('TestWW1data.csv')\n",
    "\n",
    "sample = df.sample(124)\n",
    "source = ColumnDataSource(sample)\n",
    "\n",
    "p = figure()\n",
    "p.circle(x='Years', y='Deaths_year', \n",
    "         source=source,\n",
    "         size=10, color='green')\n",
    "\n",
    "p.title.text = 'Fallen Canadian Soldiers'\n",
    "p.xaxis.axis_label = 'Year of Death'\n",
    "p.yaxis.axis_label = 'Number of Deaths'\n",
    "\n",
    "hover = HoverTool()\n",
    "hover.tooltips=[\n",
    "    ('Date of Death', '@Years'),\n",
    "    ('Number of Deaths', '@Deaths_year')\n",
    "     ]\n",
    "p.add_tools(hover)\n",
    "\n",
    "show(p)"
   ]
  },
  {
   "cell_type": "code",
   "execution_count": null,
   "metadata": {
    "scrolled": true
   },
   "outputs": [],
   "source": [
    "import pandas as pd\n",
    "from bokeh.plotting import figure, output_notebook, show\n",
    "from bokeh.models import ColumnDataSource\n",
    "from bokeh.models.tools import HoverTool\n",
    "output_notebook()\n",
    "\n",
    "df = pd.read_csv('TestWW1data.csv')\n",
    "\n",
    "Data= [(x= 'Years'), (y= 'Deaths_year')]\n",
    "source = ColumnDataSource(Data)\n",
    "\n",
    "p = figure()\n",
    "p.line(y='Deaths_year', \n",
    "         source=source,\n",
    "         size=10, color='green')\n",
    "\n",
    "p.title.text = 'Fallen Canadian Soldiers Since 1876'\n",
    "p.xaxis.axis_label = 'Year'\n",
    "p.yaxis.axis_label = 'Number of Deaths'\n",
    "\n",
    "hover = HoverTool()\n",
    "hover.tooltips=[\n",
    "    ('Year', '@Years'),\n",
    "    ('Number of Deaths', '@Deaths_year')\n",
    "     ]\n",
    "p.add_tools(hover)\n",
    "\n",
    "show(p)"
   ]
  },
  {
   "cell_type": "markdown",
   "metadata": {},
   "source": [
    "### The First World War\n",
    "\n",
    "In a new excel document, names associated with the First World War where taken from the original file and reorganized and reuploaded as a csv file to show exclusively names from 1914-1918."
   ]
  },
  {
   "cell_type": "code",
   "execution_count": null,
   "metadata": {
    "scrolled": true
   },
   "outputs": [],
   "source": [
    "import pandas as pd\n",
    "\n",
    "df = pd.read_csv('WorldWar1.csv')\n",
    "print(df)"
   ]
  },
  {
   "cell_type": "markdown",
   "metadata": {},
   "source": [
    "The below graph was created using the above adjusted csv file. It shows the quantity of Canadian soldiers who died over the duration of the First World War. The hover tool adds to the graph by giving a list with names for each soldier who died. "
   ]
  },
  {
   "cell_type": "code",
   "execution_count": null,
   "metadata": {},
   "outputs": [],
   "source": [
    "import pandas as pd\n",
    "from bokeh.plotting import figure, output_notebook, show\n",
    "from bokeh.models import ColumnDataSource\n",
    "from bokeh.models.tools import HoverTool\n",
    "output_notebook()\n",
    "\n",
    "df = pd.read_csv('WorldWar1.csv')\n",
    "\n",
    "sample = df.sample(64919)\n",
    "source = ColumnDataSource(sample)\n",
    "\n",
    "p = figure()\n",
    "p.circle(x='Year', y='Unnamed: 15', \n",
    "         source=source,\n",
    "         size=10, color='green')\n",
    "\n",
    "p.title.text = 'Fallen Canadian Soldiers Each Year In The First World War'\n",
    "p.xaxis.axis_label = 'Year of Death'\n",
    "p.yaxis.axis_label = 'Number of Casualties'\n",
    "\n",
    "hover = HoverTool()\n",
    "hover.tooltips=[\n",
    "    ('First Name', '@FORENAMES'),\n",
    "    ('Last Name', '@SURNAME'),\n",
    "    ('Date of Death', '@Year')\n",
    "     ]\n",
    "p.add_tools(hover)\n",
    "\n",
    "show(p)"
   ]
  },
  {
   "cell_type": "markdown",
   "metadata": {},
   "source": [
    "### The Second World War\n",
    "\n",
    "By modifying and reorganizing the original data, a new csv file was created for the Second World War, just as the information was modified for the First World War."
   ]
  },
  {
   "cell_type": "code",
   "execution_count": null,
   "metadata": {
    "scrolled": true
   },
   "outputs": [],
   "source": [
    "import pandas as pd\n",
    "\n",
    "df = pd.read_csv('WorldWar2.csv')\n",
    "print(df)"
   ]
  },
  {
   "cell_type": "markdown",
   "metadata": {},
   "source": [
    "This graph shows the number of Canadian soldiers who died each year over the course of the Second World War. The hover tool can be used to open a list of names for each soldier represented on the graph. 1944 is a year that stands out among the others. This is likely because this is the year that Canada participated in the Invasion of Normandy. This event intensified fighting in western Europe, leading to a higher number of large-scale battles between allied forces and the German army."
   ]
  },
  {
   "cell_type": "code",
   "execution_count": null,
   "metadata": {
    "scrolled": true
   },
   "outputs": [],
   "source": [
    "import pandas as pd\n",
    "from bokeh.plotting import figure, output_notebook, show\n",
    "from bokeh.models import ColumnDataSource\n",
    "from bokeh.models.tools import HoverTool\n",
    "output_notebook()\n",
    "\n",
    "df = pd.read_csv('WorldWar2.csv')\n",
    "\n",
    "sample = df.sample(45894)\n",
    "source = ColumnDataSource(sample)\n",
    "\n",
    "p = figure()\n",
    "p.circle(x='Year', y='Unnamed: 17', \n",
    "         source=source,\n",
    "         size=10, color='green')\n",
    "\n",
    "p.title.text = 'Fallen Canadian Soldiers Each Year In The Second World War'\n",
    "p.xaxis.axis_label = 'Year of Death'\n",
    "p.yaxis.axis_label = 'Number of Casualties'\n",
    "\n",
    "hover = HoverTool()\n",
    "hover.tooltips=[\n",
    "    ('First Name', '@FORENAMES'),\n",
    "    ('Last Name', '@SURNAME'),\n",
    "    ('Date of Death', '@Year')\n",
    "     ]\n",
    "p.add_tools(hover)\n",
    "\n",
    "show(p)"
   ]
  },
  {
   "cell_type": "markdown",
   "metadata": {},
   "source": [
    "## Conclution\n",
    "\n",
    "The purpose of this notebook is to display information about those who laid down their lives in services of Canada and to promote the spirit of commemoration. The first of the three sections highlights the overall Canadian losses throughout the history of the nation. The second section focuses on names relating to the First World War and the soldiers who lost their lives in this conflict. The third section highlights the Second World War and the Canadian soldiers who lost their lives in this war, histories most destructive conflict. These graphs could be expanded upon by incorporating the month and day in a time series graph to track a particular war or even battle by the day and the losses felt by Canadian forces each day. More information could be added to each name such as service history, battles fought, age, year joined, and place of death. This information would have to be found in another source and combined with the data from this source which may be difficult, but it would greatly expand upon the potential of this notebook. Coders could also use this data to find the costliest day in Canadian military history and associate this information with a battle or event that caused this loss of life. As many people have relatives that fought with the Canadian Army throughout the nation’s history, finding specific individuals could be difficult due to the large number of names in the data source. This data could be coded to help a user to find a specific name among the others, helping users to find information about their relatives. "
   ]
  },
  {
   "cell_type": "markdown",
   "metadata": {},
   "source": [
    "## References\n",
    "\n",
    "[^1]: Government of Canada, \"Canadian Virtual War Memorial\" [Link](https://open.canada.ca/data/en/dataset/089fc8e5-1340-4e8a-a7e4-f6eb320a5b6e)\n",
    "\n",
    "[^2]: Thank you to Professor Shawn Graham for helping me upload the json data file after my own extracted json file  was unresponsive and for helping me convert the json file to a csv format.\n",
    "\n",
    "[^3]: Charlie Harper, \"Visualizing Data with Bokeh and Pandas\" _The Programming Historian_ (2018) [Link](https://programminghistorian.org/en/lessons/visualizing-with-bokeh)\n",
    "\n",
    "[^4]: Nathan Kelber and Ted Lawless, “getting-started-with-jupyter” [Link](https://hub.gke2.mybinder.org/user/shawngraham-dhmuse-notebooks-lxynx4ye/notebooks/getting-started-with-jupyter.ipynb)"
   ]
  },
  {
   "cell_type": "markdown",
   "metadata": {},
   "source": [
    "## Further Readings\n",
    "\n",
    "Amelia Wong, \"The whole story, and then some: ‘digital storytelling’ in evolving museum practice\" *MW2015: Museums and the Web 2015* (2015)\n",
    "[Access here](https://mw2015.museumsandtheweb.com/paper/the-whole-story-and-then-some-digital-storytelling-in-evolving-museum-practice/)\n",
    "\n",
    "   In this article, Wong begins her discussion by asking the question, what is storytelling? This article dives into the realm of digital history and how narratives are constructed to create experiences for visitors, both through a computer and in a physical museum. Wong explores how technologies in the digital age can be used in story making and pushes how certain aspects can be unproductive, and it is important to consider the way we use these technologies to present history.\n",
    "\n",
    "Annie Haight, Susannah Wright, David Aldridge & Patrick Alexander, \"Remembrance Day practices in schools: meaning-making in social memory during the First World War centenary\", _Journal of Beliefs & Values_, (2021) 42:1, 33-48\n",
    "[Access here](https://www.tandfonline.com/doi/full/10.1080/13617672.2019.1692556?scroll=top&needAccess=true)\n",
    "\n",
    "   This article was the result of an extensive analysis of how remembrance is taught in schools in the United Kingdom. The authors examine a number of schools and the practices they have on Remembrance Day. Haight et al determine a variety of variables that are different in each school such as individual schools’ histories, community contexts, school demographics, and the teachers own knowledge and values. The authors conclude that these factors could influence an individual’s perception of remembrance and the way they see the past.\n",
    "\n",
    "The [Canadian War Museums](https://www.warmuseum.ca/firstworldwar/introduction/) has an online exhibit where you can interact with their website to learn more about Canada's involvement with the First World War.\n",
    "\n",
    "More information about the men and women who died in the service of Canada can be found [here](https://www.canada.ca/en/services/defence/caf/militaryhistory/remembrance/records-fallen-canadians.html) on the Government of Canada website. "
   ]
  }
 ],
 "metadata": {
  "kernelspec": {
   "display_name": "Python 3",
   "language": "python",
   "name": "python3"
  },
  "language_info": {
   "codemirror_mode": {
    "name": "ipython",
    "version": 3
   },
   "file_extension": ".py",
   "mimetype": "text/x-python",
   "name": "python",
   "nbconvert_exporter": "python",
   "pygments_lexer": "ipython3",
   "version": "3.8.5"
  }
 },
 "nbformat": 4,
 "nbformat_minor": 4
}
