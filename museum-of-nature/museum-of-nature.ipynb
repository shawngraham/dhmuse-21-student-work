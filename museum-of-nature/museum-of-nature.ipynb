{
 "cells": [
  {
   "cell_type": "markdown",
   "metadata": {},
   "source": [
    "# *Introduction*"
   ]
  },
  {
   "cell_type": "markdown",
   "metadata": {},
   "source": [
    "The goal of this notebook is to show the paleontology collection at the Museum of Nature. Within this notebook I hope to show you not only the number of their collections but also the number of subspecies they have and where it was collected from. By discovering this information, it shows a glimpse into how involved the Museum of Nature is when collecting palaeontological specimen. \n",
    "\n",
    "In running each cell, the viewer will be able to see a sample scatterplot on the number of fossils within the collection, as well as get an idea on the amount of fossils which have been catalogued within a given year. The viewer will also explore bar graphs showing the different kingdom groups and subspecies within the collection. Finally the viewer will learn where the fossils came from, who identified them and when the fossils were identified.\n",
    "\n",
    "In running these cells, the viewer will have a better understanding of the different fossil species within the Museum of Nature's collection and have a general idea of how many of each species have been collected.\n",
    "\n",
    "To begin, click on the In []: and press Shift + Enter. Then wait for a number to appear in the brackets before clicking on the next cell."
   ]
  },
  {
   "cell_type": "code",
   "execution_count": null,
   "metadata": {
    "scrolled": false
   },
   "outputs": [],
   "source": [
    "!pip install pandas"
   ]
  },
  {
   "cell_type": "code",
   "execution_count": null,
   "metadata": {},
   "outputs": [],
   "source": [
    "!pip install plotly"
   ]
  },
  {
   "cell_type": "code",
   "execution_count": null,
   "metadata": {},
   "outputs": [],
   "source": [
    "import pandas as pd\n",
    "df = pd.read_csv(\"nature-for-kate.txt\")"
   ]
  },
  {
   "cell_type": "code",
   "execution_count": null,
   "metadata": {},
   "outputs": [],
   "source": [
    "print('Hi! What is your name?')\n",
    "user_name = input()\n",
    "print(f'Pleased to meet you {user_name}!')"
   ]
  },
  {
   "cell_type": "code",
   "execution_count": null,
   "metadata": {},
   "outputs": [],
   "source": [
    "print(f'Ok {user_name}, Lets take a look at the fossil collection within the Museum of Nature')"
   ]
  },
  {
   "cell_type": "markdown",
   "metadata": {},
   "source": [
    "## Data"
   ]
  },
  {
   "cell_type": "markdown",
   "metadata": {},
   "source": [
    "### Examining the imported data "
   ]
  },
  {
   "cell_type": "markdown",
   "metadata": {},
   "source": [
    "We are going to start off by examing the data we just imported and we are going to look through the data to see what information is currently available for us to work with. We are then going to examine the different column headers to figure out what key words we can use in our search queries. "
   ]
  },
  {
   "cell_type": "code",
   "execution_count": null,
   "metadata": {
    "scrolled": true
   },
   "outputs": [],
   "source": [
    "# let's take a look at what information is available for us to look at \n",
    "df "
   ]
  },
  {
   "cell_type": "code",
   "execution_count": null,
   "metadata": {
    "scrolled": false
   },
   "outputs": [],
   "source": [
    "# let's see what all the column headers are \n",
    "df.columns.tolist()"
   ]
  },
  {
   "cell_type": "markdown",
   "metadata": {},
   "source": [
    "### Scatterplot with sample data"
   ]
  },
  {
   "cell_type": "markdown",
   "metadata": {},
   "source": [
    "Now that we have a general idea of what key words we can use, were now going to take that information to ask the data to conduct some sample scatterplots. First we will ask the data to show us a sample of how many artifacts there are within the museum, and then we will look at a sample of how many of those artifacts have already been recorded into their data. "
   ]
  },
  {
   "cell_type": "code",
   "execution_count": null,
   "metadata": {
    "scrolled": true
   },
   "outputs": [],
   "source": [
    "# let's see what a scatterplot sample can reveal regarding how many fossils are within the Museum of Nature\n",
    "# We are going to use the 'year' and the 'individualCount' collumn headers to give us some results.\n",
    "\n",
    "import pandas as pd\n",
    "from bokeh.plotting import figure, output_notebook, show\n",
    "from bokeh.models import ColumnDataSource\n",
    "from bokeh.models.tools import HoverTool\n",
    "output_notebook()\n",
    "\n",
    "sample = df.sample(3000) \n",
    "source = ColumnDataSource(sample)\n",
    "\n",
    "p = figure()\n",
    "p.circle(x='year', y='individualCount', \n",
    "         source=source,\n",
    "         size=10, color='green')\n",
    "\n",
    "p.title.text = 'Fossils in the Museum of Nature'\n",
    "p.xaxis.axis_label = 'Year'\n",
    "p.yaxis.axis_label = 'Amount of Fossils in the Collection'  \n",
    "\n",
    "hover = HoverTool()\n",
    "hover.tooltips=[\n",
    "         ('Genus','@genus'),\n",
    "         ('Species', '@species'), \n",
    "         ('Class', '@class'),\n",
    "         ('Family', '@family'),\n",
    "]\n",
    "p.add_tools(hover)\n",
    "\n",
    "show(p)"
   ]
  },
  {
   "cell_type": "markdown",
   "metadata": {},
   "source": [
    "### Scatterplot with sample data on recorded artifacts"
   ]
  },
  {
   "cell_type": "code",
   "execution_count": null,
   "metadata": {
    "scrolled": true
   },
   "outputs": [],
   "source": [
    "# Let's see what a scatterplot can reveal on how many species were recorded into the collection within a given year\n",
    "# Let's ask the data to run a sample of 3000 artifacts with the column headers year and record number\n",
    "\n",
    "import pandas as pd\n",
    "from bokeh.plotting import figure, output_notebook, show\n",
    "from bokeh.models import ColumnDataSource\n",
    "from bokeh.models.tools import HoverTool\n",
    "output_notebook()\n",
    "\n",
    "sample = df.sample(3000) \n",
    "source = ColumnDataSource(sample)\n",
    "\n",
    "p = figure()\n",
    "p.circle(x='year', y='recordNumber', \n",
    "         source=source,\n",
    "         size=10, color='blue')\n",
    "\n",
    "p.title.text = 'Number of Fossils Already Recorded within a Given Year in the Museum of Nature'\n",
    "p.xaxis.axis_label = 'Year'\n",
    "p.yaxis.axis_label = 'Amount of Species Recorded'  \n",
    "\n",
    "hover = HoverTool()\n",
    "hover.tooltips=[\n",
    "         ('Genus','@genus'),\n",
    "         ('Species', '@species'), \n",
    "         ('Record Number', '@recordNumber'),\n",
    "]\n",
    "p.add_tools(hover)\n",
    "\n",
    "show(p)"
   ]
  },
  {
   "cell_type": "markdown",
   "metadata": {},
   "source": [
    "### Bar graph showing the different species"
   ]
  },
  {
   "cell_type": "markdown",
   "metadata": {},
   "source": [
    "Since we looked at a sample of their collection, why don't we now look at their entire collection of fossils. We will start off our search by looking at the different kingodm categories. Then we will look at the different phylums. After that we will zoom in further, and look at the genus. Lastly we will look at the different scientific names of these fossils."
   ]
  },
  {
   "cell_type": "code",
   "execution_count": null,
   "metadata": {
    "scrolled": true
   },
   "outputs": [],
   "source": [
    "# Now let's see what a bar graph can show us regarding the different kingdom species within the collection\n",
    "\n",
    "import plotly.express as px\n",
    "fig = px.histogram(df, x=\"kingdom\")\n",
    "fig.show()"
   ]
  },
  {
   "cell_type": "code",
   "execution_count": null,
   "metadata": {},
   "outputs": [],
   "source": [
    "# What about if we change the bar graph to show phylum instead. Lets see what it shows\n",
    "\n",
    "import plotly.express as px\n",
    "fig = px.histogram(df, x=\"phylum\")\n",
    "fig.show()"
   ]
  },
  {
   "cell_type": "code",
   "execution_count": null,
   "metadata": {},
   "outputs": [],
   "source": [
    "# How about if we look at the genus this time\n",
    "\n",
    "import plotly.express as px\n",
    "fig = px.histogram(df, x=\"genus\")\n",
    "fig.show()"
   ]
  },
  {
   "cell_type": "code",
   "execution_count": null,
   "metadata": {
    "scrolled": false
   },
   "outputs": [],
   "source": [
    "# How about if we look at the scientific names\n",
    "\n",
    "import plotly.express as px\n",
    "fig = px.histogram(df, x=\"verbatimScientificName\")\n",
    "fig.show()"
   ]
  },
  {
   "cell_type": "markdown",
   "metadata": {},
   "source": [
    "### Fossil Origination"
   ]
  },
  {
   "cell_type": "markdown",
   "metadata": {},
   "source": [
    "Finally, were going to examine the overall data on these fossils. \n",
    "We will start off by looking at where the fossils came from. \n",
    "Then we will look at who identified them. \n",
    "Lastly, we will look at when these fossils were identified."
   ]
  },
  {
   "cell_type": "code",
   "execution_count": null,
   "metadata": {},
   "outputs": [],
   "source": [
    "# Now let's take a look at where these fossils came from\n",
    "\n",
    "import plotly.express as px\n",
    "fig = px.histogram(df, x=\"stateProvince\")\n",
    "fig.show()"
   ]
  },
  {
   "cell_type": "code",
   "execution_count": null,
   "metadata": {
    "scrolled": false
   },
   "outputs": [],
   "source": [
    "# How about we ask the data to tell us who identified these fossils\n",
    "\n",
    "import plotly.express as px\n",
    "fig = px.histogram(df, x=\"identifiedBy\")\n",
    "fig.show()"
   ]
  },
  {
   "cell_type": "code",
   "execution_count": null,
   "metadata": {},
   "outputs": [],
   "source": [
    "# Finally let's ask the data to show us when the fossils were identified\n",
    "\n",
    "import plotly.express as px\n",
    "fig = px.histogram(df, x=\"dateIdentified\")\n",
    "fig.show()"
   ]
  },
  {
   "cell_type": "markdown",
   "metadata": {},
   "source": [
    "## Conclusion"
   ]
  },
  {
   "cell_type": "markdown",
   "metadata": {},
   "source": [
    "Hopefully now, by going through the data and running each cell, you now have a better idea and understanding of what kinds of fossils the Museum of Nature has in their collection, the different species they posses and where the fossils came from. \n",
    "\n",
    "After getting a general idea of the various search criterias that were available, you might even have a few more ideas of your own to try and filter through to see what other resuts might appear. \n",
    "\n",
    "Should you wish to conduct some more research on your own, there is a list of sources below containing the data which was used in this notebook."
   ]
  },
  {
   "cell_type": "markdown",
   "metadata": {},
   "source": [
    "## References"
   ]
  },
  {
   "cell_type": "markdown",
   "metadata": {},
   "source": [
    "Shepherd K, Torgersen J (2021). Canadian Museum of Nature Fossil Vertebrate Collection. Version 1.7. Canadian Museum of Nature. Occurrence dataset https://doi.org/10.15468/blxvml accessed via GBIF.org on 2021-04-12.\n",
    "\n",
    "Shepherd K, Shorthouse D (2021). Canadian Museum of Nature Fossil Invertebrate Collection. Version 1.7. Canadian Museum of Nature. Occurrence dataset https://doi.org/10.15468/sh5u7g accessed via GBIF.org on 2021-04-12."
   ]
  },
  {
   "cell_type": "markdown",
   "metadata": {},
   "source": [
    "## Further Readings"
   ]
  },
  {
   "cell_type": "markdown",
   "metadata": {},
   "source": [
    "[Link to Fantastic Fossils: A Guide to Finding and Identifying Prehistoric Life](https://www.jstor.org/stable/10.7312/prot19578)\n",
    "\n",
    "[Link to Molecuar and Fossil Dating:A Compatible Match?](https://www.jstor.org/stable/41406189)\n",
    "\n",
    "[Link to Using Observations of Fossils to Reconstruct Ancient Environments](https://www.jstor.org/stable/43691333)\n"
   ]
  }
 ],
 "metadata": {
  "kernelspec": {
   "display_name": "Python 3",
   "language": "python",
   "name": "python3"
  },
  "language_info": {
   "codemirror_mode": {
    "name": "ipython",
    "version": 3
   },
   "file_extension": ".py",
   "mimetype": "text/x-python",
   "name": "python",
   "nbconvert_exporter": "python",
   "pygments_lexer": "ipython3",
   "version": "3.8.5"
  }
 },
 "nbformat": 4,
 "nbformat_minor": 4
}
