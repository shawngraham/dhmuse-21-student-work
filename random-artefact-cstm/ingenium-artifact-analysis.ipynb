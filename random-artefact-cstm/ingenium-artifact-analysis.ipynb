{
 "cells": [
  {
   "cell_type": "markdown",
   "metadata": {
    "cell_id": "00001-d0620644-a477-4206-a3cd-e14c0c30ded3",
    "deepnote_cell_type": "markdown",
    "tags": []
   },
   "source": [
    "# Random Objects and Hidden Hierarchies\n",
    "By Sara Harvey & Chantal Brousseau\n",
    "\n",
    "## Analyzing the Ingenium Collection \n",
    "In this notebook we will explore questions about the context of artifacts and what this means for digitizing collections.  Our central purpose is to create a random artifact generator using data from the Ingenium collection, and subsequently using the same data set used for this to visualize the most common categories of technology and how they are distributed within the collection.  We will be looking at how these categories reflect the museums in the Ingenium network and what this could mean in terms of categorical representation regarding what is priroitized within the imagined hierarchy the collections produce.  We want our random artifact generator to give people a chance to find new objects that they otherwise would not have known to search for, as well as encouraging them to consider how the collection is curated, allowing them to make new connections amoungst these artifacts.  \n",
    "\n",
    "## Data\n",
    "As previously stated, the data we are using is from the Ingenium collection.  When thinking about this data, we ask questions about where the data came from and its relevance in the museum.  Assuming this represents most, if not all, of the artifacts in the Ingenium collection, we know that it was collected by Ingenium \"to represent the products and processes of all areas of science and technology\" [^1].  This data is meant to represent all areas of technology, but we must assume this is a Western definition of technology, which could mean some areas are left out or could be misclassified.  This brings us to a drawback of our data, as we were not able to use any entries that did not have an image due to the nature of our notebook.  Certain artifacts have been left out of our notebook due to this fact, and this means that those using our notebook will not be presented anything that is not visually represented within the digital collections.  We are also assuming that these entries have all the informaiton given to Ingenium, even when it looks like the table is missing data.  We will be using all the information given to us from the data, but it is important to note that, like with much of the digitized data available online, we may not have it all. \n",
    "\n",
    "\n",
    "[^1]: \"Artifact Open Data Set: mash up the past, map the future.\" Ingenium.  https://ingeniumcanada.org/collection-research/artifact-open-data-set-mash-up \n"
   ]
  },
  {
   "cell_type": "markdown",
   "metadata": {
    "cell_id": "00002-0014b7bf-ec60-4348-8663-3ff60cc88ef6",
    "deepnote_cell_type": "markdown",
    "tags": []
   },
   "source": [
    "### Installing and importing what we need\n",
    "This is where we install all the packages we will use in this notebook.  `pandas` is for manipulating data, `plotly` and `numpy` are for visualizing the data.  Following this, we then import everything we need and set the display settings for our notebook. Displaying all rows of the very large data set is too demanding for Jupyter notebook, so instead we just display the the entirety of the columns."
   ]
  },
  {
   "cell_type": "code",
   "execution_count": null,
   "metadata": {
    "cell_id": "00000-0a14dec8-d7c3-45f9-b00c-97b28860b825",
    "deepnote_cell_type": "code",
    "scrolled": true
   },
   "outputs": [],
   "source": [
    "!pip install ipywidgets\n",
    "!pip install pandas\n",
    "!pip3 install requests\n",
    "!pip3 install plotly\n",
    "!pip3 install numpy"
   ]
  },
  {
   "cell_type": "code",
   "execution_count": null,
   "metadata": {},
   "outputs": [],
   "source": [
    "!pip install plotly"
   ]
  },
  {
   "cell_type": "code",
   "execution_count": null,
   "metadata": {
    "cell_id": "00000-9dbdaa20-adda-40fd-a116-d8368829b372",
    "deepnote_cell_type": "code",
    "deepnote_to_be_reexecuted": false,
    "execution_millis": 35,
    "execution_start": 1617764464585,
    "scrolled": false,
    "source_hash": "4fca0ebe",
    "tags": []
   },
   "outputs": [],
   "source": [
    "# for randomiser\n",
    "import requests\n",
    "import random\n",
    "import pandas as pd\n",
    "from IPython.display import Image, display, HTML\n",
    "import ipywidgets as widgets\n",
    "\n",
    "# for visualizations\n",
    "import plotly.graph_objects as go\n",
    "import plotly.express as px\n",
    "import numpy as np\n",
    "\n",
    "pd.set_option('display.max_colwidth', None)\n",
    "pd.options.display.max_columns = None"
   ]
  },
  {
   "cell_type": "markdown",
   "metadata": {
    "cell_id": "00005-10144aee-4698-45f0-b047-f2398eb5afaf",
    "deepnote_cell_type": "markdown",
    "tags": []
   },
   "source": [
    "### Reading and manipulating our data\n",
    "Here we are importing the data into a `pandas` data frame to use in our notebook, making it easier to further manipulate. When we import all the data we can see that there are a total of 108463 rows/entries in the collection. That's a lot of data!"
   ]
  },
  {
   "cell_type": "code",
   "execution_count": null,
   "metadata": {
    "cell_id": "00001-14bd49df-d902-4a33-8721-e71f0257955d",
    "deepnote_cell_type": "code",
    "deepnote_to_be_reexecuted": false,
    "execution_millis": 39193,
    "execution_start": 1617764464625,
    "scrolled": true,
    "source_hash": "93dc8f1b",
    "tags": []
   },
   "outputs": [],
   "source": [
    "df = pd.read_csv(\"https://dhmuse.netlify.app/data/cstmc-CSV-en.csv\")\n",
    "# or download that directly, save in the directory and read it in\n",
    "df = pd.read_csv('cstmc-csv-en.csv')\n",
    "df"
   ]
  },
  {
   "cell_type": "markdown",
   "metadata": {
    "cell_id": "00007-8cda1ff5-d33a-4031-94c9-ce929b688f5f",
    "deepnote_cell_type": "markdown",
    "tags": []
   },
   "source": [
    "Now, we take out all the artifacts that did not have an image, because we need an image for the random artifact generator to pull up.  Once we did this we can see that the total number of artifacts in the collection decreased drastically from 108463 to only 67631.  \n",
    "\n",
    "In this process, looking at this shrunken data set, we can ask: what artifacts were prioritized in the process of full digitization? Or perhaps even, what artifacts were deemed worth digitizing through photography? Seeing this decrease helps us understand that there are still artifacts that were either deemed unworthy of digitization, or they could not be digitized due to the condition they were in, whether that be caused simply by aging or poor preservation.  "
   ]
  },
  {
   "cell_type": "code",
   "execution_count": null,
   "metadata": {
    "cell_id": "00002-9c10c85b-6032-43ec-8c24-8629f66d3a6b",
    "deepnote_cell_type": "code",
    "deepnote_to_be_reexecuted": false,
    "execution_millis": 271,
    "execution_start": 1617764503759,
    "scrolled": true,
    "source_hash": "14b9d707",
    "tags": []
   },
   "outputs": [],
   "source": [
    "# remove any artifacts that do not have images\n",
    "df = df[df['image'].notna()]\n",
    "\n",
    "# replace NaN in date column\n",
    "df['BeginDate'] = df['BeginDate'].fillna('n.d.')\n",
    "\n",
    "# replace NaN in general desc column\n",
    "\n",
    "df['GeneralDescription'] = df['GeneralDescription'].fillna('No further desc.')\n",
    "\n",
    "# replace remaining NaN\n",
    "\n",
    "df = df.fillna('Unknown')\n",
    "\n",
    "df"
   ]
  },
  {
   "cell_type": "markdown",
   "metadata": {
    "cell_id": "00008-49327325-fd28-4e14-a3f9-602e6b82c8aa",
    "deepnote_cell_type": "markdown",
    "tags": []
   },
   "source": [
    "### Creating the randomiser\n",
    "Here we are selecting a random artifact to be displayed.  The artifact is displayed with:\n",
    "\n",
    "- Title\n",
    "- Year\n",
    "- Image\n",
    "- Group \n",
    "- Category\n",
    "- Manufactuering information\n",
    "- Context\n",
    "- Link to Ingenium archive\n",
    "\n",
    "We chose to specifically show more contextual information not just as a play on the concept of taking an artifact out of context only for it to be place heavily into its own context, but also to highlight for those using this notebook what kind of explanatory information objects are archived with. How frequently is this context given? When there is context, how sufficient is the information in situating the artifact in its respective \"place\" in history? \n",
    "\n",
    "The randomiser gives the user the opportunity to discover new things but also consider the artifact out of the context of the exhibit/other artifacts it might be displayed with.  By allowing the user to only see one artifact, we are giving them the oportunity to try and find new meaning for the artifact and the ability to discover a new artifact in an \"unconventional\" way.   \n"
   ]
  },
  {
   "cell_type": "code",
   "execution_count": null,
   "metadata": {
    "cell_id": "00003-08266bdc-5e1d-4524-9fc9-9adb3da74c47",
    "deepnote_cell_type": "code",
    "deepnote_to_be_reexecuted": false,
    "execution_millis": 9,
    "execution_start": 1617764503987,
    "scrolled": false,
    "source_hash": "3b150afa",
    "tags": []
   },
   "outputs": [],
   "source": [
    "# \"randomizing\" function\n",
    "def display_random(b):\n",
    "    out.clear_output()\n",
    "    # Randomly select a record from the randomly sorted data\n",
    "    randomArtifact = df.sample()\n",
    "    \n",
    "    \n",
    "    artiNum = randomArtifact.iloc[0]['artifactNumber']\n",
    "    imgURL = randomArtifact.iloc[0]['image']\n",
    "    objName = randomArtifact.iloc[0]['ObjectName']\n",
    "    genDesc = randomArtifact.iloc[0]['GeneralDescription']\n",
    "    yearMan = randomArtifact.iloc[0]['BeginDate']\n",
    "    \n",
    "    model = randomArtifact.iloc[0]['model']\n",
    "    \n",
    "    group = randomArtifact.iloc[0]['group1']\n",
    "    cate = randomArtifact.iloc[0]['category1']\n",
    "    \n",
    "    canCon = randomArtifact.iloc[0]['ContextCanada']\n",
    "    funcCon = randomArtifact.iloc[0]['ContextFunction']\n",
    "    techCon = randomArtifact.iloc[0]['ContextTechnical']\n",
    "    \n",
    "    # creating string for \"Manufacturing\" displayed information\n",
    "    manufacturing = ''\n",
    "    \n",
    "    if randomArtifact.iloc[0]['Manufacturer'] != 'Unknown':\n",
    "        manufacturing = manufacturing + randomArtifact.iloc[0]['Manufacturer'] + ', '\n",
    "        \n",
    "    if randomArtifact.iloc[0]['ManuCity'] != 'Unknown':\n",
    "        manufacturing = manufacturing + randomArtifact.iloc[0]['ManuCity'] + ', '\n",
    "        \n",
    "    if randomArtifact.iloc[0]['ManuProvince'] != 'Unknown':\n",
    "        manufacturing = manufacturing + randomArtifact.iloc[0]['ManuProvince'] + ', '\n",
    "        \n",
    "    if randomArtifact.iloc[0]['ManuCountry'] != 'Unknown':\n",
    "        manufacturing = manufacturing + randomArtifact.iloc[0]['ManuCountry']\n",
    "        \n",
    "    if manufacturing == '':\n",
    "        manufacturing = 'Unknown'\n",
    "    \n",
    "    # formatting year\n",
    "    if type(yearMan) is float:\n",
    "        yearMan = int(yearMan)\n",
    "\n",
    "    # Display the record\n",
    "    with out:\n",
    "        display(HTML(f'<h3>{objName} [{genDesc}, {yearMan}]</h3>'))\n",
    "\n",
    "        # displays image\n",
    "        display(Image(requests.get(imgURL).content))\n",
    "        \n",
    "        # contextual information\n",
    "        display(HTML(f'<p><b>Group:</b> {group}</p>'))\n",
    "        display(HTML(f'<p><b>Category:</b> {cate}</p>'))\n",
    "\n",
    "        \n",
    "        display(HTML(f'<p><b>Model:</b> {model}</p>'))\n",
    "\n",
    "        display(HTML(f'<p><b>Manufacturing:</b> {manufacturing}</p>'))\n",
    "\n",
    "        display(HTML(f'<p><b>Canadian Context:</b> {canCon.capitalize()}</p>'))\n",
    "        display(HTML(f'<p><b>Functional Context:</b> {funcCon.capitalize()}</p>'))\n",
    "        display(HTML(f'<p><b>Technical Context:</b> {techCon.capitalize()}</p>'))\n",
    "        \n",
    "        # links to archival record on Ingenium website\n",
    "        display(HTML(f'<a href=\"https://ingeniumcanada.org/ingenium/collection-research/collection-item.php?id={artiNum}\">Further Information</a>'))\n",
    "\n",
    "\n",
    "\n",
    "# Create a button to launch the randomness\n",
    "go = widgets.Button(description='Randomise!')\n",
    "out = widgets.Output()\n",
    "# calls the \"randomizing\" function\n",
    "go.on_click(display_random)\n",
    "display(go)\n",
    "display(out)\n",
    "\n",
    "# hit shift + 'O' to see the whole output without the scroll bar!"
   ]
  },
  {
   "cell_type": "markdown",
   "metadata": {
    "cell_id": "00011-95c98373-a9b4-413f-8b9a-024fccbc8b17",
    "deepnote_cell_type": "markdown",
    "tags": []
   },
   "source": [
    "### Visualizing and Putting the Data into Context \n",
    "\n",
    "To take our analysis further, why not look at the most common group of technology that has been photographically preserved? \n",
    "\n",
    "In the following cell, we are counting the values in the column containing the group a given artifact belongs to in order to gain a more macroscopic view of this portion of the Ingenium collections. Once we do this we can then group on a smaller scale to see any further trends or changes.   \n"
   ]
  },
  {
   "cell_type": "code",
   "execution_count": null,
   "metadata": {
    "cell_id": "00012-04d8ae81-3d4c-4f01-87d3-d24fd6288e76",
    "deepnote_cell_type": "code",
    "scrolled": false,
    "tags": []
   },
   "outputs": [],
   "source": [
    "# grouping 'group1'\n",
    "group1 = df['group1'].value_counts()\n",
    "\n",
    "group1df = group1.to_frame()\n",
    "\n",
    "group1df = group1df.reset_index()\n",
    "\n",
    "# calculating percentage of each group\n",
    "group1per = df['group1'].value_counts(normalize=True) * 100\n",
    "\n",
    "group1perdf = group1per.to_frame()\n",
    "\n",
    "group1perdf = group1perdf.reset_index()\n",
    "\n",
    "# merging count and percentage into one dataframe \n",
    "groupdf = pd.merge(group1df, group1perdf, how='outer', on='index', )\n",
    "\n",
    "groupdf.columns = ['Group', 'Count', 'Percentage']\n",
    "\n",
    "groupdf"
   ]
  },
  {
   "cell_type": "markdown",
   "metadata": {
    "cell_id": "00013-879d1489-c71f-4e95-aa22-6ba6ea6648fd",
    "deepnote_cell_type": "markdown",
    "tags": []
   },
   "source": [
    "Looking at the following graph, we see that aviation is by far the largest group with 10314 artifacts, and communications follows very far behind with 6230. Closer to this are industrial technology and photography with 4642 and 4550, respectively. \n",
    "\n",
    "When thinking about artifacts in these groups, we can also think about what might happen if an artifact falls into 2 groups, and where they may be placed in such a situation.  Perhaps aviation is so high due to the lack of alternate groups that could have better described many of the artifacts within it, or perhaps the group of 'unknown's is likewise so vast because of this exact situation."
   ]
  },
  {
   "cell_type": "code",
   "execution_count": null,
   "metadata": {
    "cell_id": "00006-f377fc48-4e2d-4a71-9fa0-b9af6e986a31",
    "deepnote_cell_type": "code",
    "scrolled": false
   },
   "outputs": [],
   "source": [
    "fig = px.bar(groupdf, y='Count', x='Group', text='Percentage', labels={\n",
    "    'Count': '# of Occurences',\n",
    "    'Group': 'Group',\n",
    "    'Percentage': 'Percent'\n",
    "                 }, color='Percentage',\n",
    "                title='Artifacts Arranged by Group')\n",
    "\n",
    "fig.update_traces(texttemplate='%{text:.2s}', textposition='outside')\n",
    "fig.update_layout(uniformtext_minsize=8, uniformtext_mode='hide', xaxis_tickangle=45)\n",
    "\n",
    "fig.update_layout(\n",
    "    autosize=False,\n",
    "    width=950,\n",
    "    height=800,)\n",
    "fig"
   ]
  },
  {
   "cell_type": "markdown",
   "metadata": {
    "cell_id": "00015-04b00e03-743e-4ff8-828e-7b08d628cba3",
    "deepnote_cell_type": "markdown",
    "tags": []
   },
   "source": [
    "### Looking at Smaller Categories\n",
    "Here we are grouping by category, a categorization meant to be more specific than the broader groups.  We wanted to take a more microscopic look at the division of artifacts in order to gain further understanding of how artifacts are categorized and see if there is any coorelation with the larger groups.  From this we can see that there is still a large differnece between first place, commemorative, and second, tools & equipment-trades, but there are also more categories that give us a better sense of the collection contains.  "
   ]
  },
  {
   "cell_type": "code",
   "execution_count": null,
   "metadata": {
    "cell_id": "00007-f2d215d3-04fb-41a6-bf7d-fc32596fe10a",
    "deepnote_cell_type": "code",
    "scrolled": true
   },
   "outputs": [],
   "source": [
    "# grouping category1\n",
    "category1 = df['category1'].value_counts()\n",
    "\n",
    "category1df = category1.to_frame()\n",
    "\n",
    "category1df = category1df.reset_index()\n",
    "\n",
    "# calculating percentage of each category\n",
    "category1per = df['category1'].value_counts(normalize=True) * 100\n",
    "\n",
    "category1perdf = category1per.to_frame()\n",
    "\n",
    "category1perdf = category1perdf.reset_index()\n",
    "\n",
    "# merging count and percentage into one dataframe\n",
    "categorydf = pd.merge(category1df, category1perdf, how='outer', on='index', )\n",
    "\n",
    "categorydf.columns = ['Category', 'Count', 'Percentage']\n",
    "\n",
    "categorydf"
   ]
  },
  {
   "cell_type": "markdown",
   "metadata": {
    "cell_id": "00017-934e2ab1-27cc-4efb-bad1-2fc8b63549f5",
    "deepnote_cell_type": "markdown",
    "tags": []
   },
   "source": [
    "We chose to use a treemap to see if there may be an implied hierarchy amongst the digitized, photo documented artifacts, whether this hierarchy was created intentionally or not.\n",
    "\n",
    "Note that the largest category count is 'unknown'-- why might they have been commerated through photography yet still deemed unidentifiable? \n",
    "\n",
    "Seeing that 'commemorative' objects were the greatest part of the known collection by a large margin, we can infer that commeration is seen as important within the Ingenium collections.  Why might there be such significance placed on commerative objects? Further, WHAT is being deemed commerative?   "
   ]
  },
  {
   "cell_type": "code",
   "execution_count": null,
   "metadata": {
    "cell_id": "00008-b04a88b3-5519-4192-ace0-e972282a69d3",
    "deepnote_cell_type": "code",
    "scrolled": false
   },
   "outputs": [],
   "source": [
    "# dropping \"Unknown\" rows for this visualisation for a clearer look at what's \"really\" there\n",
    "categorydf.replace('Unknown', np.nan, inplace = True)\n",
    "\n",
    "categorydf = categorydf.dropna()\n",
    "\n",
    "fig = px.treemap(categorydf, path=['Category'], values='Count',\n",
    "                  color='Percentage', hover_data=['Percentage'],\n",
    "                  color_continuous_scale='RdBu',\n",
    "                  color_continuous_midpoint=np.average(categorydf['Percentage'], weights=categorydf['Percentage']))\n",
    "\n",
    "fig.data[0].hovertemplate = '%{label}<br> Count: %{value}'\n",
    "\n",
    "fig.update_layout(\n",
    "    autosize=False,\n",
    "    width=900,\n",
    "    height=800,)\n",
    "\n",
    "fig"
   ]
  },
  {
   "cell_type": "markdown",
   "metadata": {
    "cell_id": "00011-bf847797-bf5a-408c-b7d8-263e37923239",
    "deepnote_cell_type": "markdown",
    "tags": []
   },
   "source": [
    "## Conclusion \n",
    "The purpose of this notebook was to generate random artifacts from the Ingenium collection in order to allow the user to find new artifacts or think about previously-seen ones in a new way.  In thinking about this, it is important to note that we had to exclude almost half of the artifacts in the collection, as they do not have images. A patron might question why so much was excluded, and what was excluded from the collection.  If we had kept all of the artifacts, perhaps the information in our graphs could have been drastically different and told a completely different story.  We wanted to be able to showcase the variety of artifacts that the Ingenium collection contains, yet also help users understand there are more ways to think about these pieces than just how they are displayed in exhibits.   \n",
    "\n",
    "To extend our notebook, we could look at what artifacts are missing images and how that could reflect the imlied hierarchy of artifacts.  Perhaps there is an entire category that has not been digitized yet, or another way hierarchy is able to be seen from the data we do have.\n",
    "\n",
    "We could also continue to organize by each column to see how Ingenium further classified their artifacts, and if the labels given reflect anything.  This would help us understand how certain artifacts are labeled, and consider if there may be a better way to do this that would better reflect what is being archived. \n",
    "\n",
    "Users may also want to compare the Ingenium data with other GLAM institutions that relate to science and technology to observe any differences in how they digitize their material.  Perhaps Ingenium does not have the resources that others museums have to digitize certain artifacts, or vice versa.  Nonetheless, the comparisons that could be made with any aspect of this data can help us see what should focus on in further digitization efforts.  If there are entire categories that cannot be digitized, we should be wondering why and what could be done instead to preserve them in an accessible format.  Does this mean only artifacts that can be digitized can be preserved, or is there other ways of preserving them that we have not discovered yet?  \n",
    "\n",
    "\n",
    "## References \n",
    "- Notebook inspired by the notebook [\"A random item from Museums Victoria's collections!\"](https://glam-workbench.net/museumsvictoria/#a-random-item-from-museums-victorias-collections) from Tim Sherratt's [GLAM Workbench](https://glam-workbench.net/)\n",
    "- [Open data for Ingenium collections](https://ingeniumcanada.org/collection-research/open-data) \n",
    "- Referenced Melanie Walsh's [Introduction to Cultural Analytics & Python](https://melaniewalsh.github.io/Intro-Cultural-Analytics/welcome.html) for Python instruction\n",
    "\n",
    "## Further Readings \n",
    "\n",
    "Bivens, Joy, and Ben Garcia, Porchia Moore, nikhil trivedi, Aletheia Wittman. ‘Collections: How We Hold the Stuff We Hold in Trust’ in _MASSAction, Museums As Site for Social Action_, toolkit, 125-139.  https://static1.squarespace.com/static/58fa685dff7c50f78be5f2b2/t/59dcdd27e5dd5b5a1b51d9d8/1507646780650/TOOLKIT_10_2017.pdf \n",
    "\n",
    "Houghton, Bernadette.  \"Preservation Challenges in the Digital Age.\" _D-Lib Magazine_.  July/August 2016.  http://www.dlib.org/dlib/july16/houghton/07houghton.html\n",
    "\n",
    "Kelly, Linda.  \"The (post) digital visitor: What has (almost) twenty years of museum audience research revealed?\" Museums and the Web.  https://mw2016.museumsandtheweb.com/paper/the-post-digital-visitor-what-has-almost-20-years-of-museum-audience-research-revealed/\n",
    "\n",
    "Lincoln, Matthew D. \"Some problems with GLAM data on GitHub\" _Matthew Lincoln, PhD_ (blog). https://matthewlincoln.net/2016/01/06/some-problems-with-glam-data-on-github.html\n",
    "\n",
    "saywhatnathan.  \"Why do we collect?\" _Archival Decolonist_ (blog). https://archivaldecolonist.com/2018/08/18/why-do-we-collect/ \n",
    "\n",
    "Wong, Amelia.  \"The whole story, and then some: ‘digital storytelling’ in evolving museum practice.\" Museums in the Web. https://mw2015.museumsandtheweb.com/paper/the-whole-story-and-then-some-digital-storytelling-in-evolving-museum-practice/\n"
   ]
  }
 ],
 "metadata": {
  "deepnote": {},
  "deepnote_execution_queue": [],
  "deepnote_notebook_id": "d9041fb8-2bb2-45f2-bcaf-c7195181acb8",
  "kernelspec": {
   "display_name": "Python 3",
   "language": "python",
   "name": "python3"
  },
  "language_info": {
   "codemirror_mode": {
    "name": "ipython",
    "version": 3
   },
   "file_extension": ".py",
   "mimetype": "text/x-python",
   "name": "python",
   "nbconvert_exporter": "python",
   "pygments_lexer": "ipython3",
   "version": "3.7.4"
  }
 },
 "nbformat": 4,
 "nbformat_minor": 2
}
