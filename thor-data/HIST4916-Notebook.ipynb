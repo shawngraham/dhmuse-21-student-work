{
 "cells": [
  {
   "cell_type": "markdown",
   "metadata": {},
   "source": [
    "# Visualizing Aircraft Use Based on WWII THOR Data"
   ]
  },
  {
   "cell_type": "markdown",
   "metadata": {},
   "source": [
    "## Introduction\n",
    "This notebook takes the Theatre History of Operations [(THOR) World War Two data](https://data.world/datamil/world-war-ii-thor-data/workspace/file?filename=THOR_WWII_DATA_CLEAN.csv) and visualizes it based on the top six aircraft that appear in the dataset. The goal for this notebook is to examine how certain WW2 aircraft were used by Allied air forces. We will use Pandas and Bokeh to sort and visualize a dataset. Filtering will help make the data easier to navagate, and visualizing the data will also make it easier to understand. We will also explore subsets of data and missing data gague the accuracy of our visualizations. Hopefully this makes the data more accessible, and the same methods can be used to explore other aspects of the dataset, helping to inspire further research and investigation.\n",
    "___"
   ]
  },
  {
   "cell_type": "markdown",
   "metadata": {},
   "source": [
    "## Data\n",
    "The data we will use for the the notebook is THOR Data, which is a database of historical aerial bombings from World War One to Vietnam. The dataset we will be using combines digitized paper mission reports from World War Two, from 1939 to 1945. [Here](https://data.world/datamil/world-war-ii-thor-data) is a link to the full dataset, with a description and summary. \n",
    "<br><br>The dataset we will be using was reduced by Charlie Harper in his tutorial, [Vidualizing Data with Bokah and Pandas](https://programminghistorian.org/en/lessons/visualizing-with-bokeh#the-wwii-thor-dataset). The CSV file has been reduced to 19 columns from the original 62. \n",
    "<br><br>\n",
    "Our data is limited because it only includes 19 out of the total 62 columns of data. However, this also allows us to narrow down our analysis to bombing data and core mission information. The dataset also sorts aircraft model information by type, which claims to be [\"more robust than previous studies\"](https://data.world/datamil/thor-data-dictionary/workspace/file?filename=THOR+Draft+Data+Dictionary+Dec+2016.pdf). For this reason, it is a relatively thorough record of the types of airplanes that were used by Allied forces in aerial bombings throughout the war (from Sept 3, 1939 to May 1945). However, the dataset contains more information about missions in the European theatre and is [less thorough on RAF boming in the Mediterranea, African, and Pacific theatres](https://data.world/datamil/thor-data-dictionary/workspace/file?filename=THOR+Draft+Data+Dictionary+Dec+2016.pdf). The data was also [compiled by an American team working with the Pentagon](https://insight.livestories.com/s/v2/thor-overview/a100cd16-c2a7-453b-8ea6-45947c1bbc51), so the data is skewed heavily with American sources. We will further investigate the limitations of the data for our purposes by calculating missing data from each column. \n",
    "<br><br> Using the code below, we can open up our dataset with Pandas to begin our exploration."
   ]
  },
  {
   "cell_type": "markdown",
   "metadata": {},
   "source": [
    "### Opening THOR_WW2 with Pandas\n",
    "Now, we will use Pandas to read the CSV file and display the data in a chart. After the data is displayed, we can use the `.sample()` method to display 10 random rows of data."
   ]
  },
  {
   "cell_type": "code",
   "execution_count": null,
   "metadata": {},
   "outputs": [],
   "source": [
    "# importing pandas\n",
    "import pandas as pd\n",
    "# pandas is displaying the data up to 100 rows\n",
    "pd.options.display.max_rows = 100\n",
    "# panas is reading the thor_wwii csv file\n",
    "df = pd.read_csv('thor_wwii.csv', delimiter=\",\", parse_dates=['MSNDATE'])\n",
    "df"
   ]
  },
  {
   "cell_type": "code",
   "execution_count": null,
   "metadata": {
    "scrolled": true
   },
   "outputs": [],
   "source": [
    "#pandas is displaying 10 random rows of data from the set\n",
    "df.sample(10)"
   ]
  },
  {
   "cell_type": "markdown",
   "metadata": {},
   "source": [
    "___"
   ]
  },
  {
   "cell_type": "markdown",
   "metadata": {},
   "source": [
    "## Sorting the THOR_WW2 data\n",
    "To determine what kind of information we can examine and visualize in this dataset, we can print out a list of the columns in the CSV file using `df.columns.tolist()`."
   ]
  },
  {
   "cell_type": "code",
   "execution_count": null,
   "metadata": {},
   "outputs": [],
   "source": [
    "#showing a list of the column headings in the data\n",
    "df.columns.tolist()"
   ]
  },
  {
   "cell_type": "markdown",
   "metadata": {},
   "source": [
    "Seeing the list of columns in the THOR WW2 data, I want to focus on examining the aircrafts used in aerial bombings included in the dataframe. Using Pandas, we can sort by the country mission and aircraft name columns using double brackets `[[]]`."
   ]
  },
  {
   "cell_type": "code",
   "execution_count": null,
   "metadata": {},
   "outputs": [],
   "source": [
    "# displaying only the mission country, the aircraft names, and target countries\n",
    "# this is the subset of data that I will be working with in this notebook\n",
    "df[['COUNTRY_FLYING_MISSION', 'AIRCRAFT_NAME']]"
   ]
  },
  {
   "cell_type": "markdown",
   "metadata": {},
   "source": [
    "Now, let's use `.unique()` to get a list of unique aircraft names within the dataframe. This way, we won't have to sort through all of the rows ourselves."
   ]
  },
  {
   "cell_type": "code",
   "execution_count": null,
   "metadata": {
    "scrolled": true
   },
   "outputs": [],
   "source": [
    "#listing the unique aircraft names that appear in the dataset\n",
    "df.AIRCRAFT_NAME.unique()"
   ]
  },
  {
   "cell_type": "markdown",
   "metadata": {},
   "source": [
    "Since we have a list of all of the aircraft listed in the dataframe, let's see if we can narrow down our analysis by looking at the most frequently used aircrafts. We can do this by using `.value_counts()` and specifying the column AIRCRAFT_NAME."
   ]
  },
  {
   "cell_type": "code",
   "execution_count": null,
   "metadata": {},
   "outputs": [],
   "source": [
    "#counting the values of each aircraft name in the column\n",
    "df['AIRCRAFT_NAME'].value_counts()"
   ]
  },
  {
   "cell_type": "markdown",
   "metadata": {},
   "source": [
    "***"
   ]
  },
  {
   "cell_type": "markdown",
   "metadata": {},
   "source": [
    "## Using Bokeh to visualize aircraft data\n",
    "Now that we know the most reported aircraft in the dataframe, we can take the top six and use Bokeh to create interactive visualizations. It will be good to visualize the data because we will be able to see how the frequency of aircraft compares to one another. The interactive aspects of the charts also make this process easier since we can hover over the bars to compare the different types of munitions used. \n",
    "<br><br>\n",
    "To start using Bokeh, we first have to install it into our notebook."
   ]
  },
  {
   "cell_type": "code",
   "execution_count": null,
   "metadata": {
    "scrolled": true
   },
   "outputs": [],
   "source": [
    "# command to install bokeh\n",
    "# the ! means that the code below is interpreted as being run on the command line, rather than as python\n",
    "!pip install bokeh pyproj"
   ]
  },
  {
   "cell_type": "markdown",
   "metadata": {},
   "source": [
    "### Bar charts of categorical data\n",
    "Now that we've installed Bokeh, we can use it to create charts of categorical data. Categorical data is data that can be divided into different groups. Types of aircraft hold categorical data. Using a bar chart, we can compare how many munitions each plane dropped. The categorical data will go on our x axis while the numerical data (weight of munitions dropped) will be graphed on the y axis. This information can be used to compare how each aircraft was used."
   ]
  },
  {
   "cell_type": "code",
   "execution_count": null,
   "metadata": {},
   "outputs": [],
   "source": [
    "#bar graph visualization of the kilotons of munitions dropped by top 6 aircrafts that appear the most in the data\n",
    "#importing bokeh charts and colours\n",
    "import pandas as pd\n",
    "from bokeh.plotting import figure, output_notebook, show\n",
    "from bokeh.models import ColumnDataSource\n",
    "from bokeh.models.tools import HoverTool\n",
    "\n",
    "from bokeh.palettes import Pastel1\n",
    "from bokeh.transform import factor_cmap\n",
    "output_notebook()\n",
    "\n",
    "#selecting the top 6 aircrafts that were determined above\n",
    "filter = df['AIRCRAFT_NAME'].isin(('B17','B24','B25','B26','A20','WELLINGTON'))\n",
    "df = df[filter]\n",
    "\n",
    "#grouping from the whole record to one record for each aircraft with the total munitions dropped\n",
    "grouped = df.groupby('AIRCRAFT_NAME')['TOTAL_TONS', 'TONS_HE', 'TONS_IC', 'TONS_FRAG'].sum()\n",
    "#grouping by 1000 gives us kilotons of munitions rather than just tons\n",
    "grouped = grouped / 1000\n",
    "\n",
    "#this creates a list of aircraft names to use, which is categorical instead of numerical\n",
    "source = ColumnDataSource(grouped)\n",
    "aircraft = source.data['AIRCRAFT_NAME'].tolist()\n",
    "p = figure(x_range=aircraft)\n",
    "\n",
    "color_map = factor_cmap(field_name='AIRCRAFT_NAME', \n",
    "                    palette=Pastel1[6], factors=aircraft)\n",
    "\n",
    "#vbar makes a top parameter rather than a y parameter\n",
    "p.vbar(x='AIRCRAFT_NAME', top='TOTAL_TONS', source=source, width=0.70, color=color_map)\n",
    "\n",
    "# chart labels\n",
    "p.title.text ='Munitions Dropped by Aircraft in the RAF and AF'\n",
    "p.xaxis.axis_label = 'Aircraft'\n",
    "p.yaxis.axis_label = 'Kilotons of Munitions'\n",
    "\n",
    "#interactive hover tool that displays the amounts of munitions dropped for each column\n",
    "hover = HoverTool()\n",
    "hover.tooltips = [\n",
    "    (\"Totals\", \"@TONS_HE High Explosive / @TONS_IC Incendiary / @TONS_FRAG \tFragmentation\")]\n",
    "\n",
    "#'vline' tells the popup to show when a vertial line crosses a glyph\n",
    "hover.mode = 'vline'\n",
    "\n",
    "p.add_tools(hover)\n",
    "\n",
    "show(p)"
   ]
  },
  {
   "cell_type": "markdown",
   "metadata": {},
   "source": [
    "To double check my data before coming to any conclusions, I am going to print the grouped information to see that all of the numbers make sense. The output below shows us that the tons of high explosive, incindiary, and fragmentation munitions all add up to the total tons of munitions overall for each aircraft, which means the visualization is showing an accurate representation of the data."
   ]
  },
  {
   "cell_type": "code",
   "execution_count": null,
   "metadata": {},
   "outputs": [],
   "source": [
    "print(grouped)"
   ]
  },
  {
   "cell_type": "markdown",
   "metadata": {},
   "source": [
    "### Sub-sampling data\n",
    "To get even more specific with the visualization, we can sub-sample the data and put it all together in a stacked bar chart. Examples of sub-samples in this context would be the different types of munitions used: high explosive, fragementation, and incendiary. Perhaps some aircrafts with less frequency in the data might have been used to drop a different kind of munition that was used less."
   ]
  },
  {
   "cell_type": "code",
   "execution_count": null,
   "metadata": {},
   "outputs": [],
   "source": [
    "#plotting the different types of munitions dropped by each aircraft\n",
    "#importing bokeh charts, colours, and the hovertool\n",
    "import pandas as pd\n",
    "from bokeh.plotting import figure, output_notebook, show\n",
    "from bokeh.models import ColumnDataSource\n",
    "from bokeh.models.tools import HoverTool\n",
    "\n",
    "from bokeh.palettes import Pastel1\n",
    "output_notebook()\n",
    "\n",
    "#selecting the top 6 aircrafts that were determined above\n",
    "filter = df['AIRCRAFT_NAME'].isin(('B17','B24','B25','B26','A20','WELLINGTON'))\n",
    "df = df[filter]\n",
    "\n",
    "#grouping from the whole record to one record for each aircraft with the total munitions dropped\n",
    "grouped = df.groupby('AIRCRAFT_NAME')['TONS_IC', 'TONS_FRAG', 'TONS_HE'].sum()\n",
    "#grouping by 1000 gives us kilotons of munitions rather than just tons\n",
    "grouped = grouped / 1000\n",
    "\n",
    "#this creates a list of aircraft names to use, which is categorical instead of numerical\n",
    "source = ColumnDataSource(grouped)\n",
    "aircraft = source.data['AIRCRAFT_NAME'].tolist()\n",
    "p = figure(x_range=aircraft)\n",
    "\n",
    "#stacking the different kinds of munitions and setting the display colours\n",
    "p.vbar_stack(stackers=['TONS_HE', 'TONS_FRAG', 'TONS_IC'], \n",
    "             x='AIRCRAFT_NAME', source=source, \n",
    "             legend_label = ['High Explosive', 'Fragmentation', 'Incendiary'],\n",
    "             width=0.5, color=Pastel1[3])\n",
    "\n",
    "# chart labels\n",
    "p.title.text ='Types of Munitions Dropped by Top Planes'\n",
    "p.legend.location = 'top_left'\n",
    "\n",
    "p.xaxis.axis_label = 'Plane'\n",
    "p.xgrid.grid_line_color = None\t#remove the x grid lines\n",
    "\n",
    "p.yaxis.axis_label = 'Kilotons of Munitions'\n",
    "\n",
    "#interactive hover tool that displays the amounts of munitions dropped for each column\n",
    "hover = HoverTool()\n",
    "hover.tooltips = [\n",
    "    (\"Totals\", \"@AIRCRAFT_NAME Aircraft Name / @TONS_HE High Explosive / @TONS_IC Incendiary / @TONS_FRAG \tFragmentation\")]\n",
    "\n",
    "hover.mode = 'vline'\n",
    "\n",
    "p.add_tools(hover)\n",
    "\n",
    "show(p)"
   ]
  },
  {
   "cell_type": "markdown",
   "metadata": {},
   "source": [
    "The graph above suggests that all of the aircraft were used to drop high explosive munitions, which were also dropped most frequently by each kind of aircraft. It is interesting to note that aircrafts B17 and B24 were used most frequently, regardless of the type of munitions dropped. Why might this be? It also seems that the Wellington aircraft was rarely used to deploy incendiary munitions."
   ]
  },
  {
   "cell_type": "markdown",
   "metadata": {},
   "source": [
    "### Time-series visualization\n",
    "Another way we can visualize the data is by using a time-series chart, which will graph the amount of munitions that the aircrafts collectively dropped over time. \n",
    "<br><br>\n",
    "To get a set of data with the information we want, we will filter our dataframe to only show the information relating to the aircrafts B17, B24, B25, B26, A20, and Wellington. We will do this by using the same `filter` as we did above for the graphs. We will save that data as a new CSV file and then put that dataframe up on a time-series chart."
   ]
  },
  {
   "cell_type": "code",
   "execution_count": null,
   "metadata": {},
   "outputs": [],
   "source": [
    "#making a new dataset with the top 6 aircraft to make a time series visualization\n",
    "filter = df['AIRCRAFT_NAME'].isin(('B17','B24','B25','B26','A20','WELLINGTON'))\n",
    "df = df[filter]\n",
    "\n",
    "df[filter]"
   ]
  },
  {
   "cell_type": "code",
   "execution_count": null,
   "metadata": {},
   "outputs": [],
   "source": [
    "#writing our filter to CSV and saving\n",
    "top_aircraft_filter = df[filter]\n",
    "top_aircraft_filter.to_csv(\"THORwwii_top6aircrafts.csv\", encoding='utf-8', index=False)"
   ]
  },
  {
   "cell_type": "markdown",
   "metadata": {},
   "source": [
    "Now, we can use that CSV file for our time-series graph. We will resample the data by month using the `grouper` object and resampling by month `freq='M'`. We will be creating fewer records, which is called downsampling. This will make the chart look cleaner and hopefully allow us to see trends more easily."
   ]
  },
  {
   "cell_type": "code",
   "execution_count": null,
   "metadata": {},
   "outputs": [],
   "source": [
    "#time graph showing the types of munitions dropped by the top 6 aircraft over time\n",
    "#importing bokeh charts and colours\n",
    "import pandas as pd\n",
    "from bokeh.plotting import figure, output_notebook, show\n",
    "from bokeh.models import ColumnDataSource\n",
    "from bokeh.palettes import Pastel1\n",
    "output_notebook()\n",
    "\n",
    "#here the code is reading only the top aircraft data instead of the whole datafile which was abbreviated as df\n",
    "topcraft_df = pd.read_csv('THORwwii_top6aircrafts.csv')\n",
    "\n",
    "#make sure MSNDATE is a datetime format\n",
    "topcraft_df['MSNDATE'] = pd.to_datetime(topcraft_df['MSNDATE'], format='%Y/%m/%d')\n",
    "\n",
    "#resampling the data by month (M) so that we get a cleaner graph\n",
    "grouped = topcraft_df.groupby(pd.Grouper(key='MSNDATE', freq='M'))['TOTAL_TONS', 'TONS_IC', 'TONS_FRAG', 'TONS_HE'].sum()\n",
    "grouped = grouped/1000\n",
    "\n",
    "source = ColumnDataSource(grouped)\n",
    "\n",
    "#x axis type\n",
    "p = figure(x_axis_type='datetime')\n",
    "\n",
    "#setting colours for each line in the chart\n",
    "p.line(x='MSNDATE', y='TOTAL_TONS', line_width=2, source=source, legend_label='All Munitions')\n",
    "p.line(x='MSNDATE', y='TONS_FRAG', line_width=2, source=source, color='pink', legend_label='Fragmentation')\n",
    "p.line(x='MSNDATE', y='TONS_IC', line_width=2, source=source, color='yellow', legend_label='Incendiary')\n",
    "p.line(x='MSNDATE', y='TONS_HE', line_width=2, source=source, color='green', legend_label='High Explosive')\n",
    "\n",
    "#y axis label\n",
    "p.yaxis.axis_label = 'Kilotons of Munitions Dropped'\n",
    "\n",
    "show(p)"
   ]
  },
  {
   "cell_type": "markdown",
   "metadata": {},
   "source": [
    "Here, we can see that munitions use for this set of aircrafts increased significantly after 1943. There is a dip in the graph just before the winter of 1944, before Germany surrendered. There is an increase again in munitions dropped in the spring of 1945, leading up to the surrender of Japan in the fall of 1945. It is important to note as well that the use of all top six bombing aircraft was limited until 1943. \n",
    "***"
   ]
  },
  {
   "cell_type": "markdown",
   "metadata": {},
   "source": [
    "## Examining missing data\n",
    "One important thing to consider when doing broad examination of data is how much of that data you really have. With this dataset, we can use Python to calculate the percentage of complete data in the CSV file. The `.count()` method will exclude NaN values in the data. Using `len()` will give us the percentage of filled data in every column. <br>\n",
    "Note that an \"unknown\" will still be counted if it has been included in the dataset. The `.count()` method only accounts for blank cells the columns. "
   ]
  },
  {
   "cell_type": "code",
   "execution_count": null,
   "metadata": {},
   "outputs": [],
   "source": [
    "#finding what % of each column is missing information\n",
    "df.count() / len(df)"
   ]
  },
  {
   "cell_type": "markdown",
   "metadata": {},
   "source": [
    "After running that cell, we can see that the AIRCRAFT_NAME column is 99% full. That gives us a good indication that the broad trends we discovered using the visualizations are accurate according to the data that was included in the THOR_WW2 dataset. This is true as well for our time-series chart because that MSNDATE column has 100% of its data. From these percentages we can also see that takeoff locations were less important to record than target locations. The data included in the set also suggests that the most important things to note were when the missions took place and how many munitions were being used by weight.\n",
    "***"
   ]
  },
  {
   "cell_type": "markdown",
   "metadata": {},
   "source": [
    "# Conclusion\n",
    "Overall, we have been able to explore and visualize our THOR WW2 data. Using Pandas, we have sorted the data by mission country and aircraft name. We were able to determine how many times each type of aircraft appeared in the dataset. With this information, we were able to visualize the top six types of aircraft present in the dataset using Bokeh. Bokeh's interactive features allowed us to compare the aircraft, how often each were used, and the types of munitions that each aircraft dropped. We can see that most aircraft were used to deploy high explosive munitions, and aircrafts B17 and B24 were most used overall, regardless of munition type. Finally, we were also able to examine how much of the data was missing from our dataset, giving us insight as to what kind of information was deemed important enough to record. \n",
    "<br><br>\n",
    "Further research could examine Canada's own contribution to WW2 aerial missions by crossreferencing with other data. For example, I considered creating a time-series chart with the [Ingenium data](https://ingeniumcanada.org/collection-research/artifact-open-data-set-mash-up), filtering for aircraft parts manufactured between 1939 to 1945. Since the data has robust information on the target countries of each mission, the same filtering and visualizations used in this notebook could be used to examine types of munitions used on target countries. Aircraft type by mission country could also be examined. Interesting results might also be yielded by exploring the least-used aircraft. Linking this data with other archival data, such as war diaries or photography catalogues, could also help to contextualize the categorical and quantitative data that we have worked with today, shifting focus to a more subjective and relationship-based exploration. \n",
    "<br><br>\n",
    "The filtering and visualization methods used in this notebook could also be used for different datasets that contain quantitative, qualitative (categorical), and temporal data that could be compared to one another.\n",
    "***"
   ]
  },
  {
   "cell_type": "markdown",
   "metadata": {},
   "source": [
    "# References\n",
    "THOR data information:\n",
    "- [Description and summary of THOR WW2 data](https://data.world/datamil/world-war-ii-thor-data)\n",
    "- [THOR data dictionary, with methodology, strenghts and limitations](https://data.world/datamil/thor-data-dictionary/workspace/file?filename=THOR+Draft+Data+Dictionary+Dec+2016.pdf)\n",
    "<br>\n",
    "- [An Overview of THOR](https://insight.livestories.com/s/v2/thor-overview/a100cd16-c2a7-453b-8ea6-45947c1bbc51); history behind the project\n",
    "\n",
    "Tutorials followed:\n",
    "<br>\n",
    "- Pandas Basics [Part 1](https://melaniewalsh.github.io/Intro-Cultural-Analytics/Data-Analysis/Pandas-Basics-Part1.html) and [Part 2](https://melaniewalsh.github.io/Intro-Cultural-Analytics/Data-Analysis/Pandas-Basics-Part2.html#count) by Melanie Walsh\n",
    "- [Visualizing Data with Bokeh and Pandas](https://programminghistorian.org/en/lessons/visualizing-with-bokeh#the-wwii-thor-dataset) by Charlie Harper with The Programming Historian\n",
    "<br>\n",
    "\n",
    "Forums that helped with errors along the way:\n",
    "- [list index out of range](https://stackoverflow.com/questions/40916388/python-pandas-bokeh-indexerror-list-index-out-of-range-why) error when creating bar charts\n",
    "- [time data format does not match](https://stackoverflow.com/questions/25015711/time-data-does-not-match-format) error when creating a time-series chart\n",
    "<br>\n",
    "\n",
    "[Markdown guide](https://www.markdownguide.org/basic-syntax/)"
   ]
  },
  {
   "cell_type": "markdown",
   "metadata": {},
   "source": [
    "# Further Reading\n",
    "- [Data Stories: An Overview of THOR](https://insight.livestories.com/s/v2/thor-overview/a100cd16-c2a7-453b-8ea6-45947c1bbc51) \n",
    "<br>\n",
    "This article discusses more informtion about how the THOR data was developped. It has notes on how the data can be used as an archive, for personal exploration, and for more applied purposes, like investigating unexploded ordnance. This article is very insightful as a starting point to be more informed on the scope of the data.\n",
    "<br><br>\n",
    "- [Data as Medium](https://medium.com/@caw_/data-as-medium-361814dba6a9) by Chad Weinard (2019)\n",
    "<br>\n",
    "This article does a great job exploring the subjectivity of data. Recording, cleaning, and exploring data is always an ongoing process that is profoundly shaped by human action. The dataset itself can be an object of study -- what does it say about the institution or the culture that produced it?\n",
    "<br><br>\n",
    "- [Archives strengthening historical narratives: Sharing digital and linked data resources for broader reach and sustainability](https://mw18.mwconf.org/paper/archives-strengthening-historical-narrative-sharing-digital-and-linked-data-resources-for-broader-reach-and-sustainability/) by Mark Coffey, Alan Watts, and Duane Degler (2018)\n",
    "<br>\n",
    "Since the THOR data is just raw information that is not presented in any particularly accessible way, this article presents and example of how archival materials can be made more accessible. The article breaks down an interactive website that allows users to explore the archive through many different points of entry that accommodate for different interests. This method also allows users to discover and explore further than what they may have intitally been looking for. The emphasis on linking data and sharing assets also applies to the THOR data, which can be used as a jumping off point for further investigation."
   ]
  }
 ],
 "metadata": {
  "kernelspec": {
   "display_name": "Python 3",
   "language": "python",
   "name": "python3"
  },
  "language_info": {
   "codemirror_mode": {
    "name": "ipython",
    "version": 3
   },
   "file_extension": ".py",
   "mimetype": "text/x-python",
   "name": "python",
   "nbconvert_exporter": "python",
   "pygments_lexer": "ipython3",
   "version": "3.7.6"
  }
 },
 "nbformat": 4,
 "nbformat_minor": 4
}
