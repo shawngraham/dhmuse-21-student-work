{
 "cells": [
  {
   "cell_type": "markdown",
   "metadata": {},
   "source": [
    "## HIST4916 DH+Museums\n",
    "\n",
    "This repository and associated jupyter notebooks are by students in the Winter 2021 edition of [DHMuse](https://dhmuse.netlify.app), an asynchronous online course led by Shawn Graham.\n",
    "\n",
    "The point was never to teach folks how to code, but rather, to think critically about the potentials, perils, and problems of digitized cultural heritage materials. By building these notebooks and grappling with code, for instance, the gang had to think hard about what it means for a GLAM institution to make materials available on the web. What's the point, if it's _this_ difficult to work with the data, eh? Who benefits? Who loses out?\n",
    "\n",
    "Explore, adapt, reuse!"
   ]
  },
  {
   "cell_type": "markdown",
   "metadata": {},
   "source": [
    "+ [THOR-data](THOR-data/HIST4916-Notebook.ipynb)               \n",
    "+ [billings-family](billings-family/hist-4916.ipynb)         \n",
    "+ [cstm-data](cstm-data/notebook.ipynb)               \n",
    "+ [museum-of-nature](museum-of-nature/museum-of-nature.ipynb/)\n",
    "+ [algonquin-park-scraper](algonquin-park-scraper/APK-Webscraper.ipynb)  \n",
    "+ [casualty-data](casualty-data/casualty-data.ipynb)         \n",
    "+ [random-artefact-cstm](random-artefact-cstm/ingenium-artifact-analysis.ipynb)"
   ]
  },
  {
   "cell_type": "code",
   "execution_count": null,
   "metadata": {},
   "outputs": [],
   "source": []
  }
 ],
 "metadata": {
  "kernelspec": {
   "display_name": "Python 3",
   "language": "python",
   "name": "python3"
  },
  "language_info": {
   "codemirror_mode": {
    "name": "ipython",
    "version": 3
   },
   "file_extension": ".py",
   "mimetype": "text/x-python",
   "name": "python",
   "nbconvert_exporter": "python",
   "pygments_lexer": "ipython3",
   "version": "3.7.4"
  }
 },
 "nbformat": 4,
 "nbformat_minor": 2
}
